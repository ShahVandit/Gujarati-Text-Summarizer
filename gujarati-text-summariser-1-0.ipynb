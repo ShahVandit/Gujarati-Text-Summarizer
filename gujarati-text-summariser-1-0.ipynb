{
 "cells": [
  {
   "cell_type": "code",
   "execution_count": 1,
   "id": "a6065164",
   "metadata": {
    "execution": {
     "iopub.execute_input": "2022-07-10T14:36:01.586700Z",
     "iopub.status.busy": "2022-07-10T14:36:01.585271Z",
     "iopub.status.idle": "2022-07-10T14:36:09.396796Z",
     "shell.execute_reply": "2022-07-10T14:36:09.395598Z"
    },
    "papermill": {
     "duration": 7.831285,
     "end_time": "2022-07-10T14:36:09.400067",
     "exception": false,
     "start_time": "2022-07-10T14:36:01.568782",
     "status": "completed"
    },
    "scrolled": true,
    "tags": []
   },
   "outputs": [],
   "source": [
    "import pandas as pd\n",
    "# import torch\n",
    "import random\n",
    "import numpy as np\n",
    "import tensorflow as tf\n",
    "import json\n",
    "import matplotlib.pyplot as plt"
   ]
  },
  {
   "cell_type": "code",
   "execution_count": 2,
   "id": "dd059c3c",
   "metadata": {
    "execution": {
     "iopub.execute_input": "2022-07-10T14:36:09.429053Z",
     "iopub.status.busy": "2022-07-10T14:36:09.427878Z",
     "iopub.status.idle": "2022-07-10T14:36:10.633276Z",
     "shell.execute_reply": "2022-07-10T14:36:10.631968Z"
    },
    "papermill": {
     "duration": 1.222887,
     "end_time": "2022-07-10T14:36:10.636242",
     "exception": false,
     "start_time": "2022-07-10T14:36:09.413355",
     "status": "completed"
    },
    "tags": []
   },
   "outputs": [],
   "source": [
    "train_data=[]\n",
    "\n",
    "for line in open('./dataset/gujarati_train.jsonl',encoding=\"utf8\"):\n",
    "    train_data.append(json.loads(line))"
   ]
  },
  {
   "cell_type": "code",
   "execution_count": 3,
   "id": "e3237006",
   "metadata": {
    "execution": {
     "iopub.execute_input": "2022-07-10T14:36:10.666937Z",
     "iopub.status.busy": "2022-07-10T14:36:10.665062Z",
     "iopub.status.idle": "2022-07-10T14:36:10.686535Z",
     "shell.execute_reply": "2022-07-10T14:36:10.685342Z"
    },
    "papermill": {
     "duration": 0.038706,
     "end_time": "2022-07-10T14:36:10.689296",
     "exception": false,
     "start_time": "2022-07-10T14:36:10.650590",
     "status": "completed"
    },
    "tags": []
   },
   "outputs": [],
   "source": [
    "train_data=pd.DataFrame.from_dict(train_data)"
   ]
  },
  {
   "cell_type": "code",
   "execution_count": 4,
   "id": "f6ba5ea2",
   "metadata": {
    "execution": {
     "iopub.execute_input": "2022-07-10T14:36:10.720554Z",
     "iopub.status.busy": "2022-07-10T14:36:10.718478Z",
     "iopub.status.idle": "2022-07-10T14:36:21.010565Z",
     "shell.execute_reply": "2022-07-10T14:36:21.008999Z"
    },
    "papermill": {
     "duration": 10.310674,
     "end_time": "2022-07-10T14:36:21.013928",
     "exception": false,
     "start_time": "2022-07-10T14:36:10.703254",
     "status": "completed"
    },
    "tags": []
   },
   "outputs": [
    {
     "data": {
      "text/plain": [
       "0       ગુજરાતના ગોધરાના ઇશાકભાઈ બોકડા અઢી મહિનાથી પાક...\n",
       "1                11 જુલાઈ 2016, એટલે ઉના દલિતકાંડનો દિવસ.\n",
       "2       ગુજરાત વિધાનસભાની આઠ બેઠકો પર ત્રીજી નવેમ્બરે ...\n",
       "3       પૂર્વ રાષ્ટ્રપતિ પ્રણવ મુખર્જીને ભારત સરકારે ભ...\n",
       "4       ગુજરાતના અરબ સાગરથી 100 કિમી દૂર આવેલા બંજર રણ...\n",
       "                              ...                        \n",
       "9114                                            પહેલો સીન\n",
       "9115                                       ફેબ્રુઆરી 2019\n",
       "9116                                  વહાલા વડાપ્રધાનશ્રી\n",
       "9117                                     શું તમે જાણો છો?\n",
       "9118                                             દૃશ્ય 1-\n",
       "Name: summary, Length: 9119, dtype: object"
      ]
     },
     "execution_count": 4,
     "metadata": {},
     "output_type": "execute_result"
    }
   ],
   "source": [
    "train_data['summary']"
   ]
  },
  {
   "cell_type": "code",
   "execution_count": 5,
   "id": "f8622d45",
   "metadata": {
    "execution": {
     "iopub.execute_input": "2022-07-10T14:36:21.044253Z",
     "iopub.status.busy": "2022-07-10T14:36:21.043413Z",
     "iopub.status.idle": "2022-07-10T14:36:21.056404Z",
     "shell.execute_reply": "2022-07-10T14:36:21.054328Z"
    },
    "papermill": {
     "duration": 0.03021,
     "end_time": "2022-07-10T14:36:21.059118",
     "exception": false,
     "start_time": "2022-07-10T14:36:21.028908",
     "status": "completed"
    },
    "tags": []
   },
   "outputs": [
    {
     "data": {
      "text/html": [
       "<div>\n",
       "<style scoped>\n",
       "    .dataframe tbody tr th:only-of-type {\n",
       "        vertical-align: middle;\n",
       "    }\n",
       "\n",
       "    .dataframe tbody tr th {\n",
       "        vertical-align: top;\n",
       "    }\n",
       "\n",
       "    .dataframe thead th {\n",
       "        text-align: right;\n",
       "    }\n",
       "</style>\n",
       "<table border=\"1\" class=\"dataframe\">\n",
       "  <thead>\n",
       "    <tr style=\"text-align: right;\">\n",
       "      <th></th>\n",
       "      <th>id</th>\n",
       "      <th>url</th>\n",
       "      <th>title</th>\n",
       "      <th>summary</th>\n",
       "      <th>text</th>\n",
       "    </tr>\n",
       "  </thead>\n",
       "  <tbody>\n",
       "    <tr>\n",
       "      <th>0</th>\n",
       "      <td>international-52860599</td>\n",
       "      <td>https://www.bbc.com/gujarati/international-528...</td>\n",
       "      <td>લૉકડાઉન : પાકિસ્તાનમાં ફસાયેલા એ ગુજરાતીઓ જે ભ...</td>\n",
       "      <td>ગુજરાતના ગોધરાના ઇશાકભાઈ બોકડા અઢી મહિનાથી પાક...</td>\n",
       "      <td>પાકિસ્તાનમાં ફસાયેલા ભારતીય નાગરિકો ખેડૂત પરિવ...</td>\n",
       "    </tr>\n",
       "    <tr>\n",
       "      <th>1</th>\n",
       "      <td>india-44211023</td>\n",
       "      <td>https://www.bbc.com/gujarati/india-44211023</td>\n",
       "      <td>ગુજરાતમાં શા માટે વધી રહ્યા છે દલિતો પર અત્યાચ...</td>\n",
       "      <td>11 જુલાઈ 2016, એટલે ઉના દલિતકાંડનો દિવસ.</td>\n",
       "      <td>આજથી ચાર વર્ષે પહેલાં આજના જ દિવસે ગીર-સોમનાથ ...</td>\n",
       "    </tr>\n",
       "    <tr>\n",
       "      <th>2</th>\n",
       "      <td>media-54889459</td>\n",
       "      <td>https://www.bbc.com/gujarati/media-54889459</td>\n",
       "      <td>પેટાચૂંટણીમાં હાર કૉંગ્રેસની કબર પર આખરી ખીલો ...</td>\n",
       "      <td>ગુજરાત વિધાનસભાની આઠ બેઠકો પર ત્રીજી નવેમ્બરે ...</td>\n",
       "      <td>સોમવારે હાથ ધરાયેલી મતગણતરીનાં પ્રારંભિક વલણોમ...</td>\n",
       "    </tr>\n",
       "    <tr>\n",
       "      <th>3</th>\n",
       "      <td>india-47014854</td>\n",
       "      <td>https://www.bbc.com/gujarati/india-47014854</td>\n",
       "      <td>જ્યારે પ્રણવ મુખર્જી બે વખત વડા પ્રધાન બનતા-બન...</td>\n",
       "      <td>પૂર્વ રાષ્ટ્રપતિ પ્રણવ મુખર્જીને ભારત સરકારે ભ...</td>\n",
       "      <td>ભારત સરકારે પૂર્વ રાષ્ટ્રપતિ પ્રણવ મુખર્જીનેભા...</td>\n",
       "    </tr>\n",
       "    <tr>\n",
       "      <th>4</th>\n",
       "      <td>india-49934787</td>\n",
       "      <td>https://www.bbc.com/gujarati/india-49934787</td>\n",
       "      <td>ગુજરાતના સફેદ રણની રંગીન કહાણી, જે તમને આશ્ચર્...</td>\n",
       "      <td>ગુજરાતના અરબ સાગરથી 100 કિમી દૂર આવેલા બંજર રણ...</td>\n",
       "      <td>આ મેદાન કચ્છના રણના નામે ઓળખાય છે. કાચબાના આકા...</td>\n",
       "    </tr>\n",
       "  </tbody>\n",
       "</table>\n",
       "</div>"
      ],
      "text/plain": [
       "                       id                                                url  \\\n",
       "0  international-52860599  https://www.bbc.com/gujarati/international-528...   \n",
       "1          india-44211023        https://www.bbc.com/gujarati/india-44211023   \n",
       "2          media-54889459        https://www.bbc.com/gujarati/media-54889459   \n",
       "3          india-47014854        https://www.bbc.com/gujarati/india-47014854   \n",
       "4          india-49934787        https://www.bbc.com/gujarati/india-49934787   \n",
       "\n",
       "                                               title  \\\n",
       "0  લૉકડાઉન : પાકિસ્તાનમાં ફસાયેલા એ ગુજરાતીઓ જે ભ...   \n",
       "1  ગુજરાતમાં શા માટે વધી રહ્યા છે દલિતો પર અત્યાચ...   \n",
       "2  પેટાચૂંટણીમાં હાર કૉંગ્રેસની કબર પર આખરી ખીલો ...   \n",
       "3  જ્યારે પ્રણવ મુખર્જી બે વખત વડા પ્રધાન બનતા-બન...   \n",
       "4  ગુજરાતના સફેદ રણની રંગીન કહાણી, જે તમને આશ્ચર્...   \n",
       "\n",
       "                                             summary  \\\n",
       "0  ગુજરાતના ગોધરાના ઇશાકભાઈ બોકડા અઢી મહિનાથી પાક...   \n",
       "1           11 જુલાઈ 2016, એટલે ઉના દલિતકાંડનો દિવસ.   \n",
       "2  ગુજરાત વિધાનસભાની આઠ બેઠકો પર ત્રીજી નવેમ્બરે ...   \n",
       "3  પૂર્વ રાષ્ટ્રપતિ પ્રણવ મુખર્જીને ભારત સરકારે ભ...   \n",
       "4  ગુજરાતના અરબ સાગરથી 100 કિમી દૂર આવેલા બંજર રણ...   \n",
       "\n",
       "                                                text  \n",
       "0  પાકિસ્તાનમાં ફસાયેલા ભારતીય નાગરિકો ખેડૂત પરિવ...  \n",
       "1  આજથી ચાર વર્ષે પહેલાં આજના જ દિવસે ગીર-સોમનાથ ...  \n",
       "2  સોમવારે હાથ ધરાયેલી મતગણતરીનાં પ્રારંભિક વલણોમ...  \n",
       "3  ભારત સરકારે પૂર્વ રાષ્ટ્રપતિ પ્રણવ મુખર્જીનેભા...  \n",
       "4  આ મેદાન કચ્છના રણના નામે ઓળખાય છે. કાચબાના આકા...  "
      ]
     },
     "execution_count": 5,
     "metadata": {},
     "output_type": "execute_result"
    }
   ],
   "source": [
    "train_data.head(5)"
   ]
  },
  {
   "cell_type": "code",
   "execution_count": 6,
   "id": "47dad3db",
   "metadata": {
    "execution": {
     "iopub.execute_input": "2022-07-10T14:36:21.087760Z",
     "iopub.status.busy": "2022-07-10T14:36:21.087337Z",
     "iopub.status.idle": "2022-07-10T14:36:21.533499Z",
     "shell.execute_reply": "2022-07-10T14:36:21.532082Z"
    },
    "papermill": {
     "duration": 0.463602,
     "end_time": "2022-07-10T14:36:21.536203",
     "exception": false,
     "start_time": "2022-07-10T14:36:21.072601",
     "status": "completed"
    },
    "tags": []
   },
   "outputs": [
    {
     "data": {
      "text/html": [
       "<div>\n",
       "<style scoped>\n",
       "    .dataframe tbody tr th:only-of-type {\n",
       "        vertical-align: middle;\n",
       "    }\n",
       "\n",
       "    .dataframe tbody tr th {\n",
       "        vertical-align: top;\n",
       "    }\n",
       "\n",
       "    .dataframe thead th {\n",
       "        text-align: right;\n",
       "    }\n",
       "</style>\n",
       "<table border=\"1\" class=\"dataframe\">\n",
       "  <thead>\n",
       "    <tr style=\"text-align: right;\">\n",
       "      <th></th>\n",
       "      <th>id</th>\n",
       "      <th>url</th>\n",
       "      <th>title</th>\n",
       "      <th>summary</th>\n",
       "      <th>text</th>\n",
       "    </tr>\n",
       "  </thead>\n",
       "  <tbody>\n",
       "    <tr>\n",
       "      <th>count</th>\n",
       "      <td>9119</td>\n",
       "      <td>9119</td>\n",
       "      <td>9119</td>\n",
       "      <td>9119</td>\n",
       "      <td>9119</td>\n",
       "    </tr>\n",
       "    <tr>\n",
       "      <th>unique</th>\n",
       "      <td>9119</td>\n",
       "      <td>9119</td>\n",
       "      <td>9114</td>\n",
       "      <td>9085</td>\n",
       "      <td>9118</td>\n",
       "    </tr>\n",
       "    <tr>\n",
       "      <th>top</th>\n",
       "      <td>international-52860599</td>\n",
       "      <td>https://www.bbc.com/gujarati/international-528...</td>\n",
       "      <td>માનસી જોશી : BBC Indian Sportswoman of the Yea...</td>\n",
       "      <td>સ્પેશિયલ સીબીઆઈ કોર્ટે શુક્રવારે સોહરાબુદ્દીન ...</td>\n",
       "      <td>આવી જ હાલત ગુજરાતી ઊંધિયાની છે. ઊંધિયાને ગુજરા...</td>\n",
       "    </tr>\n",
       "    <tr>\n",
       "      <th>freq</th>\n",
       "      <td>1</td>\n",
       "      <td>1</td>\n",
       "      <td>2</td>\n",
       "      <td>3</td>\n",
       "      <td>2</td>\n",
       "    </tr>\n",
       "  </tbody>\n",
       "</table>\n",
       "</div>"
      ],
      "text/plain": [
       "                            id  \\\n",
       "count                     9119   \n",
       "unique                    9119   \n",
       "top     international-52860599   \n",
       "freq                         1   \n",
       "\n",
       "                                                      url  \\\n",
       "count                                                9119   \n",
       "unique                                               9119   \n",
       "top     https://www.bbc.com/gujarati/international-528...   \n",
       "freq                                                    1   \n",
       "\n",
       "                                                    title  \\\n",
       "count                                                9119   \n",
       "unique                                               9114   \n",
       "top     માનસી જોશી : BBC Indian Sportswoman of the Yea...   \n",
       "freq                                                    2   \n",
       "\n",
       "                                                  summary  \\\n",
       "count                                                9119   \n",
       "unique                                               9085   \n",
       "top     સ્પેશિયલ સીબીઆઈ કોર્ટે શુક્રવારે સોહરાબુદ્દીન ...   \n",
       "freq                                                    3   \n",
       "\n",
       "                                                     text  \n",
       "count                                                9119  \n",
       "unique                                               9118  \n",
       "top     આવી જ હાલત ગુજરાતી ઊંધિયાની છે. ઊંધિયાને ગુજરા...  \n",
       "freq                                                    2  "
      ]
     },
     "execution_count": 6,
     "metadata": {},
     "output_type": "execute_result"
    }
   ],
   "source": [
    "train_data.describe()"
   ]
  },
  {
   "cell_type": "code",
   "execution_count": 7,
   "id": "7d1a4250",
   "metadata": {
    "execution": {
     "iopub.execute_input": "2022-07-10T14:36:21.566519Z",
     "iopub.status.busy": "2022-07-10T14:36:21.566126Z",
     "iopub.status.idle": "2022-07-10T14:36:21.614255Z",
     "shell.execute_reply": "2022-07-10T14:36:21.612773Z"
    },
    "papermill": {
     "duration": 0.067537,
     "end_time": "2022-07-10T14:36:21.618587",
     "exception": false,
     "start_time": "2022-07-10T14:36:21.551050",
     "status": "completed"
    },
    "tags": []
   },
   "outputs": [
    {
     "name": "stdout",
     "output_type": "stream",
     "text": [
      "<class 'pandas.core.frame.DataFrame'>\n",
      "RangeIndex: 9119 entries, 0 to 9118\n",
      "Data columns (total 5 columns):\n",
      " #   Column   Non-Null Count  Dtype \n",
      "---  ------   --------------  ----- \n",
      " 0   id       9119 non-null   object\n",
      " 1   url      9119 non-null   object\n",
      " 2   title    9119 non-null   object\n",
      " 3   summary  9119 non-null   object\n",
      " 4   text     9119 non-null   object\n",
      "dtypes: object(5)\n",
      "memory usage: 356.3+ KB\n"
     ]
    }
   ],
   "source": [
    "train_data.info()"
   ]
  },
  {
   "cell_type": "code",
   "execution_count": 8,
   "id": "5ff9d457",
   "metadata": {
    "execution": {
     "iopub.execute_input": "2022-07-10T14:36:21.649575Z",
     "iopub.status.busy": "2022-07-10T14:36:21.649221Z",
     "iopub.status.idle": "2022-07-10T14:36:21.660902Z",
     "shell.execute_reply": "2022-07-10T14:36:21.659289Z"
    },
    "papermill": {
     "duration": 0.030331,
     "end_time": "2022-07-10T14:36:21.664412",
     "exception": false,
     "start_time": "2022-07-10T14:36:21.634081",
     "status": "completed"
    },
    "tags": []
   },
   "outputs": [],
   "source": [
    "import re\n",
    "def preprocess_tokenize(text):\n",
    "      # for removing punctuation from sentencesc\n",
    "    text = str(text)\n",
    "    text = re.sub(r'(\\d+)', r'', text)\n",
    "    \n",
    "    text = text.replace('\\n', '')\n",
    "    text = text.replace('\\r', '')\n",
    "    text = text.replace('\\t', '')\n",
    "    text = text.replace('\\u200d', '')\n",
    "    text=re.sub(\"(__+)\", ' ', str(text)).lower()   #remove _ if it occors more than one time consecutively\n",
    "    text=re.sub(\"(--+)\", ' ', str(text)).lower()   #remove - if it occors more than one time consecutively\n",
    "    text=re.sub(\"(~~+)\", ' ', str(text)).lower()   #remove ~ if it occors more than one time consecutively\n",
    "    text=re.sub(\"(\\+\\++)\", ' ', str(text)).lower()   #remove + if it occors more than one time consecutively\n",
    "    text=re.sub(\"(\\.\\.+)\", ' ', str(text)).lower()   #remove . if it occors more than one time consecutively\n",
    "        \n",
    "    text=re.sub(r\"[<>()|&©@#ø\\[\\]\\'\\\",;:?.~*!]\", ' ', str(text)).lower() #remove <>()|&©ø\"',;?~*!\n",
    "    text = re.sub(\"([a-zA-Z])\",' ',str(text)).lower()\n",
    "    text = re.sub(\"(\\s+)\",' ',str(text)).lower()\n",
    "    #text = text.split(' ')\n",
    "    #text = [x for x in text if(x!='')]\n",
    "    #text.insert(0,'<sos>')\n",
    "    #text.insert(len(text),'<eos>')\n",
    "    return text"
   ]
  },
  {
   "cell_type": "code",
   "execution_count": null,
   "id": "b36c5813",
   "metadata": {
    "execution": {
     "iopub.execute_input": "2022-07-10T14:36:21.693348Z",
     "iopub.status.busy": "2022-07-10T14:36:21.693040Z",
     "iopub.status.idle": "2022-07-10T14:36:21.771756Z",
     "shell.execute_reply": "2022-07-10T14:36:21.770227Z"
    },
    "papermill": {
     "duration": 0.097237,
     "end_time": "2022-07-10T14:36:21.775388",
     "exception": false,
     "start_time": "2022-07-10T14:36:21.678151",
     "status": "completed"
    },
    "tags": []
   },
   "outputs": [],
   "source": []
  },
  {
   "cell_type": "code",
   "execution_count": 10,
   "id": "4dd7a1e9",
   "metadata": {
    "execution": {
     "iopub.execute_input": "2022-07-10T14:36:21.806212Z",
     "iopub.status.busy": "2022-07-10T14:36:21.805891Z",
     "iopub.status.idle": "2022-07-10T14:36:21.811107Z",
     "shell.execute_reply": "2022-07-10T14:36:21.809630Z"
    },
    "papermill": {
     "duration": 0.023112,
     "end_time": "2022-07-10T14:36:21.813605",
     "exception": false,
     "start_time": "2022-07-10T14:36:21.790493",
     "status": "completed"
    },
    "tags": []
   },
   "outputs": [],
   "source": [
    "train_data_src = train_data['summary']\n",
    "train_data_trg = train_data['text']"
   ]
  },
  {
   "cell_type": "code",
   "execution_count": 11,
   "id": "f70b29e2",
   "metadata": {
    "execution": {
     "iopub.execute_input": "2022-07-10T14:36:21.844132Z",
     "iopub.status.busy": "2022-07-10T14:36:21.843045Z",
     "iopub.status.idle": "2022-07-10T14:37:21.520375Z",
     "shell.execute_reply": "2022-07-10T14:37:21.519022Z"
    },
    "papermill": {
     "duration": 59.695844,
     "end_time": "2022-07-10T14:37:21.523654",
     "exception": false,
     "start_time": "2022-07-10T14:36:21.827810",
     "status": "completed"
    },
    "tags": []
   },
   "outputs": [],
   "source": [
    "tokenized_corpus_src = [preprocess_tokenize(x) for x in train_data_src]  #these are headlines\n",
    "tokenized_corpus_trg = [preprocess_tokenize(x) for x in train_data_trg] # these are articles\n",
    "# print(tokenized_corpus_trg[0])"
   ]
  },
  {
   "cell_type": "code",
   "execution_count": 12,
   "id": "8a7f067a",
   "metadata": {
    "execution": {
     "iopub.execute_input": "2022-07-10T14:37:21.555139Z",
     "iopub.status.busy": "2022-07-10T14:37:21.553819Z",
     "iopub.status.idle": "2022-07-10T14:37:25.251033Z",
     "shell.execute_reply": "2022-07-10T14:37:25.249714Z"
    },
    "papermill": {
     "duration": 3.715338,
     "end_time": "2022-07-10T14:37:25.253616",
     "exception": false,
     "start_time": "2022-07-10T14:37:21.538278",
     "status": "completed"
    },
    "tags": []
   },
   "outputs": [
    {
     "data": {
      "image/png": "[encoded data removed]",
      "text/plain": [
       "<Figure size 432x288 with 2 Axes>"
      ]
     },
     "metadata": {
      "needs_background": "light"
     },
     "output_type": "display_data"
    }
   ],
   "source": [
    "text_word_count = []\n",
    "summary_word_count = []\n",
    "\n",
    "# populate the lists with sentence lengths\n",
    "for i in tokenized_corpus_trg:\n",
    "      text_word_count.append(len(i.split()))\n",
    "\n",
    "for i in tokenized_corpus_src:\n",
    "      summary_word_count.append(len(i.split()))\n",
    "\n",
    "length_df = pd.DataFrame({'text':text_word_count, 'summary':summary_word_count})\n",
    "\n",
    "length_df.hist(bins = 30)\n",
    "plt.show()"
   ]
  },
  {
   "cell_type": "code",
   "execution_count": 13,
   "id": "e78e4186",
   "metadata": {
    "execution": {
     "iopub.execute_input": "2022-07-10T14:37:25.284097Z",
     "iopub.status.busy": "2022-07-10T14:37:25.283788Z",
     "iopub.status.idle": "2022-07-10T14:37:25.329612Z",
     "shell.execute_reply": "2022-07-10T14:37:25.328099Z"
    },
    "papermill": {
     "duration": 0.065947,
     "end_time": "2022-07-10T14:37:25.333869",
     "exception": false,
     "start_time": "2022-07-10T14:37:25.267922",
     "status": "completed"
    },
    "tags": []
   },
   "outputs": [
    {
     "name": "stdout",
     "output_type": "stream",
     "text": [
      "::::: Text_Cleaned :::::\n",
      "0    પાકિસ્તાનમાં ફસાયેલા ભારતીય નાગરિકો ખેડૂત પરિવ...\n",
      "1    આજથી ચાર વર્ષે પહેલાં આજના જ દિવસે ગીર-સોમનાથ ...\n",
      "2    સોમવારે હાથ ધરાયેલી મતગણતરીનાં પ્રારંભિક વલણોમ...\n",
      "3    ભારત સરકારે પૂર્વ રાષ્ટ્રપતિ પ્રણવ મુખર્જીનેભા...\n",
      "4    આ મેદાન કચ્છના રણના નામે ઓળખાય છે કાચબાના આકાર...\n",
      "Name: Text_Cleaned, dtype: object \n",
      "\n",
      "::::: Summary :::::\n",
      "0    ગુજરાતના ગોધરાના ઇશાકભાઈ બોકડા અઢી મહિનાથી પાક...\n",
      "1                      જુલાઈ એટલે ઉના દલિતકાંડનો દિવસ \n",
      "2    ગુજરાત વિધાનસભાની આઠ બેઠકો પર ત્રીજી નવેમ્બરે ...\n",
      "3    પૂર્વ રાષ્ટ્રપતિ પ્રણવ મુખર્જીને ભારત સરકારે ભ...\n",
      "4    ગુજરાતના અરબ સાગરથી કિમી દૂર આવેલા બંજર રણમાં ...\n",
      "Name: Summary_Cleaned, dtype: object \n",
      "\n"
     ]
    }
   ],
   "source": [
    "train_data['Text_Cleaned'] = tokenized_corpus_trg  \n",
    "print(\"::::: Text_Cleaned :::::\")\n",
    "print(train_data['Text_Cleaned'][0:5], \"\\n\")\n",
    "\n",
    "\n",
    "train_data['Summary_Cleaned'] =  tokenized_corpus_src \n",
    "print(\"::::: Summary :::::\")\n",
    "print(train_data['Summary_Cleaned'][0:5], \"\\n\")\n",
    "\n",
    "corpus = list(train_data['Text_Cleaned'])"
   ]
  },
  {
   "cell_type": "code",
   "execution_count": 14,
   "id": "b6d8a6ea",
   "metadata": {
    "execution": {
     "iopub.execute_input": "2022-07-10T14:37:25.364502Z",
     "iopub.status.busy": "2022-07-10T14:37:25.364193Z",
     "iopub.status.idle": "2022-07-10T14:37:25.371396Z",
     "shell.execute_reply": "2022-07-10T14:37:25.369926Z"
    },
    "papermill": {
     "duration": 0.026583,
     "end_time": "2022-07-10T14:37:25.375390",
     "exception": false,
     "start_time": "2022-07-10T14:37:25.348807",
     "status": "completed"
    },
    "tags": []
   },
   "outputs": [
    {
     "name": "stdout",
     "output_type": "stream",
     "text": [
      "પાકિસ્તાનમાં ફસાયેલા ભારતીય નાગરિકો ખેડૂત પરિવાર સાથે સંબંધ ધરાવતા ઇશાકભાઈ બોકડા પાકિસ્તાનના કરાચીમાં એક લગ્નપ્રસંગમાં સામેલ થવા માટે માર્ચે ભારતથી ગયા હતા તેમનું કહેવું છે કે માર્ચમાં જ તેમને ત્યાંથી પરત આવવાનું હતું પરંતુ લૉકડાઉનને કારણે લોકો ત્યાં ફસાઈ ગયા છે ઇશાકભાઈ અને તેમની સાથેના અન્ય ભારતીય નાગરિકો પણ ભારત પરત આવવા માગે છે અને એ માટે તેમણે ભારત સરકારની મદદ પણ માગી છે તેમણે બીબીસી સાથે વાતચીતમાં કહ્યું કે અમે ઇસ્લામાબાદમાં ભારતીય હાઈકમિશનને અરજી કરી છે પરંતુ હજી સુધી કોઈ ઠોસ માહિતી નથી મળી બીબીસીએ આ અંગે વાત કરવા માટે ભારતીય વિદેશમંત્રાલયનો સંપર્ક કર્યો હતો પરંતુ આ લખાઈ રહ્યું છે ત્યાં સુધી કોઈ જવાબ મળી શક્યો નથી ઇશાકભાઈ કહે છે કે અમૃતસરથી ગુજરાત આવવા માટે તેમણે ચાર જૂનની ટ્રેનની ટિકિટનું બુકિંગ પણ કરાવી લીધું છે અને અન્ય તમામ વ્યવસ્થા થઈ ગઈ છે પરંતુ પાકિસ્તાનથી ભારત આવવા માટે અટારી-વાઘા સરહદ પાર કરવાની પરવાનગી મળી શકી નથી ગોધરાના આ પરિવારે રમઝાન અને ઈદ પણ પાકિસ્તાનમાં ઊજવી છે ઇશાકભાઈ જણાવે છે કે રમઝાન અને ઈદ પણ અમે પરિવારથી દૂર અહીં પાકિસ્તાનમાં ઊજવી છે પણ હવે ઘરે જવું છે ઇશાકભાઈ પોતાનાં પત્ની પુત્રી ભાણેજ અને અન્ય બે લોકો સાથે પાકિસ્તાનના કરાચીમાં છે તેમણે કહ્યું ગોધરાથી વરરાજા સાથે લોકો બારાતમાં પાકિસ્તાનના કરાચી ગયા હતા નિકાહ માર્ચની તારીખે પઢવામાં આવ્યા હતા દુલ્હા અને દુલ્હનને જરૂરી દસ્તાવેજ તૈયાર કરીને થોડો સમય પાકિસ્તાનમાં રોકાવાનું હતું પરંતુ બાકીના લોકો જે નિકાહમાં સામેલ થવા માટે ભારતથી ગયા હતા તેમને પાછું આવવાનું હતું તેઓ જણાવે છે કે માર્ચે જનતા કર્ફ્યુ જાહેર થયા પછી બૉર્ડર બંધ કરવામાં આવી હતી એટલે તેઓ પાછા ફરી ન શક્યા ઇશાકભાઈ વધુમાં કહે છે કે પાકિસ્તાનમાં નવવિવાહિત દંપતી તો સાથે છે પરંતુ તેમની બારાતમાં આવેલા નવયુવાનોના પરિવારો ભારતમાં તેમની રાહ જોઈ રહ્યા છે અબ્બુ ક્યારે ઘરે આવશો પાકિસ્તાનમાં ફસાયેલા ભારતીય નાગરિકો તો ગોધરામાં દરજીકામ કરતા ઇમરાનભાઈનું કહે છે વતન તો વતન છે બાળકો ઘરે રાહ જોઈ રહ્યાં છે ઇમરાનભાઈ તેમનાં પત્ની આયેશા અને સાસુ મેહરુનિસ્સા સાથે કરાચીમાં એક નિકાહમાં સામેલ થવા માટે ફેબ્રુઆરીની તારીખે ગયા હતા તેમણે બીબીસીને જણાવ્યું કે તેઓ કરાચીમાં પોતાનાં ફોઈનાં પુત્રીનાં નિકાહમાં ગયા હતા માર્ચે પાછું આવવાનું હતું પણ જનતા કર્ફ્યુ અને પછી લૉકડાઉનને કારણે તેમણે ત્યાં જ રહી દસ દિવસ વધુ રોકાવાનું નક્કી કર્યું હતું તેઓ કહે છે મારી બે પુત્રી છે અને એક નાનો પુત્ર આઠ વર્ષનો પુત્ર દરરોજ ફોન પર કહે છે કે અબ્બા ક્યારે આવશો ઇમરાનભાઈનું કહેવું છે આ વખતે તો ઈદ પણ બાળકો વગર સરહદ પાર ઉજવવી પડી હવે તો બસ રાહ જોઈએ છીએ કે ક્યારે અમને અમારા ઘરે જવાનો મોકો મળે માતાપિતા ભાઈ બહેન બાળકો બધાં જ ત્યાં અમારી રાહ જોઈ રહ્યાં છે ઇમરાનભાઈ જણાવે છે કે પાકિસ્તાનના કરાચીમાં ઈદની નમાજ પઢવા તેઓ મસ્જિદમાં ગયા હતા મસ્જિદમાં સોશિયલ ડિસ્ટન્સિંગનું ધ્યાન રાખીને નમાજ પઢવામાં આવી હતી પાકિસ્તાનમાં લૉકડાઉનમાં છૂટછાટ પાકિસ્તાનમાં ઈદ અને રમઝાનમાં બજાર ખોલી દેવામાં આવ્યાં હતાં ત્યારબાદ ત્યાં ભીડ પણ જોવા મળી હતી અને ત્યાં કોરોના સંક્રમણ વધવાના પણ અહેવાલ આવ્યા હતા મેથી પાકિસ્તાનમાં આંશિક રીતે રેલસેવા પણ શરૂ કરવામાં આવી હતી જૉન્સ હૉપકિન્સ યુનિવર્સિટી પ્રમાણે પાકિસ્તાનમાં અત્યાર સુધી કોરોના સંક્રમણના હજારથી વધારે કેસ આવ્યા છે અને મૃત્યુ થયાં છે ઇશાક બોકડાનું કહેવું છે કે અન્ય દેશોમાંથી ભારતના નાગરિકોને વતન પાછા લાવવામાં આવ્યા છે તો પાકિસ્તાનમાંથી તેમને લાવવામાં આવે ઇશાકભાઈએ ગોધરાથી બીબીસીના સહયોગી દક્ષેશ શાહને એક ઈમેલ પણ મોકલ્યો છે જેમાં ભારતીય વિદેશમંત્રાલયને ભારતીય નાગરિકો અંગેની માહિતી અને ચાર જૂનની ગોલ્ડન ટેમ્પલ ટ્રેન ની ટિકિટની કૉપી મોકલીને તેમને પાકિસ્તાનથી ભારતમાં આવવાની પરવાનગી માટે મદદ કરવા જણાવાયું છે ઇશાકભાઈનું કહેવું છે કે જો તેમને ચોક્કસ માહિતી આપવામાં આવે તો તેઓ કરાચીથી લાહોર જવા માટે સ્થાનિક પ્રશાસન પાસેથી ડિપાર્ચર પાસ માટે અરજી કરી શકે અને અટારી-વાઘા સુધીની યાત્રાની વ્યવસ્થા કરી શકે ઉલ્લેખનીય છે કે ભારતમાં તારીખ મેથી લૉકડાઉન પૂર્ણ થઈ રહ્યું છે અને એ બાદ અનલૉક- અંતર્ગત લૉકડાઉનની મુદ્દત વધારવામાં આવી છે જોકે આ દરમિયાન વંદે ભારત મિશન માં હજારથી વધુ ભારતીયોને વિદેશમાંથી વતન લાવવામાં આવ્યા છે વંદે ભારત મિશનમાં હજારથી વધારે ભારતીય વતન આવ્યા ભારત સરકાર દ્વારા આ અભિયાન હેઠળ કોરોના મહામારી વચ્ચે વિદેશમાં ફસાયેલા ભારતીયોને પરત લાવવા માટેની કામગીરી ચલાવવામાં આવી રહી છે નોંધનીય છે કે કોરોના સંક્રમણ વધતાં આંતરરાષ્ટ્રીય યાત્રા બંધ કરવામાં આવી હતી જેથી અનેક દેશોમાં ભારતીય નાગરિકો ફસાયેલા છે સમાચાર એજન્સી પીટીઆઈ મુજબ વિદેશ મંત્રાલયના પ્રવક્તા અનુરાગ શ્રીવાસ્તવે જણાવ્યું કે વંદે ભારત મિશન હેઠળ અત્યાર સુધી વિદેશમાં ફસાયેલા હજાર જેટલા ભારતીય નાગરિકોને પરત લાવવામાં આવ્યા હતા તેમણે એમ પણ જણાવ્યું કે જૂન સુધીમાં બીજા એક લાખ જેટલા ભારતીયોને પરત લાવવામાં આવશે વિદેશમાં કોરોના મહામારીને કારણે ફસાયેલા ભારતીય નાગરિકોને સ્વદેશ લાવવા માટે ભારત સરકારે વંદે ભારત મિશન તારીખ સાત મેના રોજ લૉન્ચ કર્યું હતું આફ્રિકા લૅટિન અમેરિકાના દેશો અને યુરોપના કેટલાક ભાગોમાંથી ભારતીય નાગરિકોને વતન લાવવાની કામગીરી હાથ ધરવામાં આવી છે અનુરાગ શ્રીવાસ્તવે ગુરુવારે જણાવ્યું હતું કે અત્યાર સુધી ભારતીયોને વતન લાવવામાં આવ્યા હતા જેમાંથી પ્રવાસી શ્રમિકો વિદ્યાર્થીઓ અને વ્યવસાયિકોને પાછા લાવવામાં આવ્યા છે પાડોશી દેશો નેપાળ અને બાંગ્લાદેશમાંથી જમીનના રસ્તે સરહદ પાર કરીને પાંચ હજાર જેટલા ભારતીયો વતન પાછા ફર્યા છે મીડિયામાં આવેલા અહેવાલ મુજબ પાકિસ્તાનમાં ફસાયેલા ભારતીય નાગરિકોને શનિવારે ભારત પાછા લાવવામાં આવશે મીડિયા અહેવાલો મુજબ આ ભારતીયો અટારી-વાઘા બૉર્ડર પરથી સરહદ પાર કરીને વતન પાછા ફરશે જોકે બીબીસી આ દાવાની પુષ્ટિ નથી કરી શક્યું ભારતથી વતન પાછા ફર્યા પાકિસ્તાની નાગરિકો સમાચાર એજન્સી પીટીઆઈ મુજબ તારીખ મેના દિવસે બાળકો સહિત પાકિસ્તાની નાગરિકો અટારી બૉર્ડરથી પાકિસ્તાન પાછા ગયા હતા તેઓ લૉકડાઉનને કારણે ભારતમાં ફસાયા હતા પાકિસ્તાની નાગરિકોમાંથી કેટલાક લોકો મેડિકલ વિઝા પર ભારત આવ્યા હતા અને હૃદયરોગો કિડની અને લીવરની બીમારીની સારવાર કરાવી રહ્યા હતા કેટલાક લોકો ધાર્મિક યાત્રા પર હતા અને કેટલાક લોકો સંબંધીઓને મળવા આવ્યા હતા પીટીઆઈ મુજબ તેમાંથી હિંદુ બે શીખ અને બાકી મુસ્લિમ લોકો હતા આ લોકો ગુજરાત મધ્ય પ્રદેશ મહારાષ્ટ્ર છત્તીસગઢ દિલ્હી હરિયાણા ઉત્તર પ્રદેશ અને પંજાબ જેવાં રાજ્યોમાં ગયા હતા આ પહેલાં લૉકડાઉન દરમિયાન પાંચમી મેના દિવસે પાકિસ્તાની નાગરિકોને પાકિસ્તાન જવા દેવામાં આવ્યા હતા તમે અમને ફેસબુક ઇન્સ્ટાગ્રામ યૂટ્યૂબ અને ટ્વિટર પર ફોલો કરી શકો છો\n"
     ]
    }
   ],
   "source": [
    "print(train_data['Text_Cleaned'][0])"
   ]
  },
  {
   "cell_type": "code",
   "execution_count": 15,
   "id": "fbeb6fe5",
   "metadata": {
    "execution": {
     "iopub.execute_input": "2022-07-10T14:37:25.406982Z",
     "iopub.status.busy": "2022-07-10T14:37:25.406603Z",
     "iopub.status.idle": "2022-07-10T14:37:25.412688Z",
     "shell.execute_reply": "2022-07-10T14:37:25.411388Z"
    },
    "papermill": {
     "duration": 0.024592,
     "end_time": "2022-07-10T14:37:25.415621",
     "exception": false,
     "start_time": "2022-07-10T14:37:25.391029",
     "status": "completed"
    },
    "tags": []
   },
   "outputs": [
    {
     "name": "stdout",
     "output_type": "stream",
     "text": [
      "ગુજરાતના ગોધરાના ઇશાકભાઈ બોકડા અઢી મહિનાથી પાકિસ્તાનમાં ફસાયેલા છે \n"
     ]
    }
   ],
   "source": [
    "print(train_data['Summary_Cleaned'][0])"
   ]
  },
  {
   "cell_type": "code",
   "execution_count": 16,
   "id": "44f7786b",
   "metadata": {
    "execution": {
     "iopub.execute_input": "2022-07-10T14:37:25.446191Z",
     "iopub.status.busy": "2022-07-10T14:37:25.445854Z",
     "iopub.status.idle": "2022-07-10T14:37:28.694980Z",
     "shell.execute_reply": "2022-07-10T14:37:28.693616Z"
    },
    "papermill": {
     "duration": 3.268094,
     "end_time": "2022-07-10T14:37:28.698211",
     "exception": false,
     "start_time": "2022-07-10T14:37:25.430117",
     "status": "completed"
    },
    "tags": []
   },
   "outputs": [],
   "source": [
    "text_count = []\n",
    "summary_count = []\n",
    "\n",
    "for sent in train_data['Text_Cleaned']:\n",
    "    text_count.append(len(sent.split()))\n",
    "for sent in train_data['Summary_Cleaned']:\n",
    "    summary_count.append(len(sent.split()))\n",
    "\n",
    "graph_df = pd.DataFrame()\n",
    "graph_df['text'] = text_count\n",
    "graph_df['summary'] = summary_count"
   ]
  },
  {
   "cell_type": "code",
   "execution_count": 17,
   "id": "f906db21",
   "metadata": {
    "execution": {
     "iopub.execute_input": "2022-07-10T14:37:28.730473Z",
     "iopub.status.busy": "2022-07-10T14:37:28.729662Z",
     "iopub.status.idle": "2022-07-10T14:37:28.747592Z",
     "shell.execute_reply": "2022-07-10T14:37:28.746052Z"
    },
    "papermill": {
     "duration": 0.037123,
     "end_time": "2022-07-10T14:37:28.750729",
     "exception": false,
     "start_time": "2022-07-10T14:37:28.713606",
     "status": "completed"
    },
    "tags": []
   },
   "outputs": [
    {
     "data": {
      "text/plain": [
       "count     9119.000000\n",
       "mean       753.608839\n",
       "std        564.893839\n",
       "min         24.000000\n",
       "25%        388.000000\n",
       "50%        662.000000\n",
       "75%       1012.000000\n",
       "max      10662.000000\n",
       "Name: text, dtype: float64"
      ]
     },
     "execution_count": 17,
     "metadata": {},
     "output_type": "execute_result"
    }
   ],
   "source": [
    "graph_df['text'].describe()"
   ]
  },
  {
   "cell_type": "code",
   "execution_count": 18,
   "id": "a898052f",
   "metadata": {
    "execution": {
     "iopub.execute_input": "2022-07-10T14:37:28.782091Z",
     "iopub.status.busy": "2022-07-10T14:37:28.781764Z",
     "iopub.status.idle": "2022-07-10T14:37:28.797318Z",
     "shell.execute_reply": "2022-07-10T14:37:28.795483Z"
    },
    "papermill": {
     "duration": 0.034292,
     "end_time": "2022-07-10T14:37:28.800051",
     "exception": false,
     "start_time": "2022-07-10T14:37:28.765759",
     "status": "completed"
    },
    "tags": []
   },
   "outputs": [
    {
     "data": {
      "text/plain": [
       "count    9119.000000\n",
       "mean       23.194649\n",
       "std         9.921249\n",
       "min         1.000000\n",
       "25%        16.000000\n",
       "50%        22.000000\n",
       "75%        28.000000\n",
       "max       150.000000\n",
       "Name: summary, dtype: float64"
      ]
     },
     "execution_count": 18,
     "metadata": {},
     "output_type": "execute_result"
    }
   ],
   "source": [
    "graph_df['summary'].describe()"
   ]
  },
  {
   "cell_type": "code",
   "execution_count": 19,
   "id": "09cfe670",
   "metadata": {
    "execution": {
     "iopub.execute_input": "2022-07-10T14:37:28.834192Z",
     "iopub.status.busy": "2022-07-10T14:37:28.832071Z",
     "iopub.status.idle": "2022-07-10T14:37:29.128941Z",
     "shell.execute_reply": "2022-07-10T14:37:29.127576Z"
    },
    "papermill": {
     "duration": 0.316026,
     "end_time": "2022-07-10T14:37:29.131582",
     "exception": false,
     "start_time": "2022-07-10T14:37:28.815556",
     "status": "completed"
    },
    "tags": []
   },
   "outputs": [
    {
     "data": {
      "image/png": "[encoded data removed]",
      "text/plain": [
       "<Figure size 432x288 with 1 Axes>"
      ]
     },
     "metadata": {
      "needs_background": "light"
     },
     "output_type": "display_data"
    }
   ],
   "source": [
    "graph_df['text'].hist(bins = 25, range=(0, 300))\n",
    "plt.show()"
   ]
  },
  {
   "cell_type": "code",
   "execution_count": 20,
   "id": "9cd23475",
   "metadata": {
    "execution": {
     "iopub.execute_input": "2022-07-10T14:37:29.165247Z",
     "iopub.status.busy": "2022-07-10T14:37:29.163676Z",
     "iopub.status.idle": "2022-07-10T14:37:29.406026Z",
     "shell.execute_reply": "2022-07-10T14:37:29.404754Z"
    },
    "papermill": {
     "duration": 0.261621,
     "end_time": "2022-07-10T14:37:29.408756",
     "exception": false,
     "start_time": "2022-07-10T14:37:29.147135",
     "status": "completed"
    },
    "tags": []
   },
   "outputs": [
    {
     "data": {
      "image/png": "[encoded data removed]",
      "text/plain": [
       "<Figure size 432x288 with 1 Axes>"
      ]
     },
     "metadata": {
      "needs_background": "light"
     },
     "output_type": "display_data"
    }
   ],
   "source": [
    "graph_df['summary'].hist(bins = 15, range=(0, 20))\n",
    "plt.show()"
   ]
  },
  {
   "cell_type": "code",
   "execution_count": 21,
   "id": "c5438a26",
   "metadata": {
    "execution": {
     "iopub.execute_input": "2022-07-10T14:37:29.443173Z",
     "iopub.status.busy": "2022-07-10T14:37:29.441215Z",
     "iopub.status.idle": "2022-07-10T14:37:29.482227Z",
     "shell.execute_reply": "2022-07-10T14:37:29.480496Z"
    },
    "papermill": {
     "duration": 0.060284,
     "end_time": "2022-07-10T14:37:29.484898",
     "exception": false,
     "start_time": "2022-07-10T14:37:29.424614",
     "status": "completed"
    },
    "tags": []
   },
   "outputs": [
    {
     "name": "stdout",
     "output_type": "stream",
     "text": [
      "0.1769930913477355\n"
     ]
    }
   ],
   "source": [
    "count = 0\n",
    "for i in graph_df['text']:\n",
    "    if i > 10 and i <= 300:\n",
    "        count = count + 1\n",
    "print(count / len(graph_df['text']))"
   ]
  },
  {
   "cell_type": "code",
   "execution_count": 22,
   "id": "1406e28b",
   "metadata": {
    "execution": {
     "iopub.execute_input": "2022-07-10T14:37:29.518176Z",
     "iopub.status.busy": "2022-07-10T14:37:29.517245Z",
     "iopub.status.idle": "2022-07-10T14:37:29.561061Z",
     "shell.execute_reply": "2022-07-10T14:37:29.559528Z"
    },
    "papermill": {
     "duration": 0.06358,
     "end_time": "2022-07-10T14:37:29.564136",
     "exception": false,
     "start_time": "2022-07-10T14:37:29.500556",
     "status": "completed"
    },
    "tags": []
   },
   "outputs": [
    {
     "name": "stdout",
     "output_type": "stream",
     "text": [
      "0.2520013159337647\n"
     ]
    }
   ],
   "source": [
    "count = 0\n",
    "for i in graph_df['summary']:\n",
    "    if i > 1 and i <= 16:\n",
    "        count = count + 1\n",
    "print(count / len(graph_df['summary']))"
   ]
  },
  {
   "cell_type": "code",
   "execution_count": 23,
   "id": "4603880b",
   "metadata": {
    "execution": {
     "iopub.execute_input": "2022-07-10T14:37:29.598158Z",
     "iopub.status.busy": "2022-07-10T14:37:29.597592Z",
     "iopub.status.idle": "2022-07-10T14:37:29.603084Z",
     "shell.execute_reply": "2022-07-10T14:37:29.601504Z"
    },
    "papermill": {
     "duration": 0.025443,
     "end_time": "2022-07-10T14:37:29.605682",
     "exception": false,
     "start_time": "2022-07-10T14:37:29.580239",
     "status": "completed"
    },
    "tags": []
   },
   "outputs": [],
   "source": [
    "max_text_len = 300\n",
    "max_summary_len = 16"
   ]
  },
  {
   "cell_type": "code",
   "execution_count": 24,
   "id": "8f52fb36",
   "metadata": {
    "execution": {
     "iopub.execute_input": "2022-07-10T14:37:29.637959Z",
     "iopub.status.busy": "2022-07-10T14:37:29.637606Z",
     "iopub.status.idle": "2022-07-10T14:37:33.271341Z",
     "shell.execute_reply": "2022-07-10T14:37:33.270012Z"
    },
    "papermill": {
     "duration": 3.653086,
     "end_time": "2022-07-10T14:37:33.274229",
     "exception": false,
     "start_time": "2022-07-10T14:37:29.621143",
     "status": "completed"
    },
    "tags": []
   },
   "outputs": [],
   "source": [
    "cleaned_text = np.array(train_data['Text_Cleaned'])\n",
    "cleaned_summary = np.array(train_data['Summary_Cleaned'])\n",
    "\n",
    "short_text = []\n",
    "short_summary = []\n",
    "\n",
    "for i in range(len(cleaned_text)):\n",
    "    if(len(cleaned_summary[i].split()) <= max_summary_len \n",
    "       and len(cleaned_summary[i].split()) > 1 \n",
    "       and len(cleaned_text[i].split()) <= max_text_len ):\n",
    "        short_text.append(cleaned_text[i])\n",
    "        short_summary.append(cleaned_summary[i])\n",
    "        \n",
    "post_pre = pd.DataFrame({'text':short_text,'summary':short_summary})"
   ]
  },
  {
   "cell_type": "code",
   "execution_count": 25,
   "id": "6459fd12",
   "metadata": {
    "execution": {
     "iopub.execute_input": "2022-07-10T14:37:33.307744Z",
     "iopub.status.busy": "2022-07-10T14:37:33.307327Z",
     "iopub.status.idle": "2022-07-10T14:37:33.350046Z",
     "shell.execute_reply": "2022-07-10T14:37:33.348729Z"
    },
    "papermill": {
     "duration": 0.062297,
     "end_time": "2022-07-10T14:37:33.352963",
     "exception": false,
     "start_time": "2022-07-10T14:37:33.290666",
     "status": "completed"
    },
    "tags": []
   },
   "outputs": [],
   "source": [
    "train_data['summary'] = train_data['summary'].apply(lambda x : 'sostok '+ x + ' eostok')"
   ]
  },
  {
   "cell_type": "code",
   "execution_count": 26,
   "id": "3e0cbbad",
   "metadata": {
    "execution": {
     "iopub.execute_input": "2022-07-10T14:37:33.386862Z",
     "iopub.status.busy": "2022-07-10T14:37:33.385669Z",
     "iopub.status.idle": "2022-07-10T14:37:33.394486Z",
     "shell.execute_reply": "2022-07-10T14:37:33.393047Z"
    },
    "papermill": {
     "duration": 0.02815,
     "end_time": "2022-07-10T14:37:33.397131",
     "exception": false,
     "start_time": "2022-07-10T14:37:33.368981",
     "status": "completed"
    },
    "tags": []
   },
   "outputs": [
    {
     "data": {
      "text/plain": [
       "(9119, 7)"
      ]
     },
     "execution_count": 26,
     "metadata": {},
     "output_type": "execute_result"
    }
   ],
   "source": [
    "train_data.shape"
   ]
  },
  {
   "cell_type": "code",
   "execution_count": 84,
   "id": "0e59f3cd",
   "metadata": {
    "execution": {
     "iopub.execute_input": "2022-07-10T14:37:33.472999Z",
     "iopub.status.busy": "2022-07-10T14:37:33.472640Z",
     "iopub.status.idle": "2022-07-10T14:37:34.839782Z",
     "shell.execute_reply": "2022-07-10T14:37:34.838472Z"
    },
    "papermill": {
     "duration": 1.386837,
     "end_time": "2022-07-10T14:37:34.842788",
     "exception": false,
     "start_time": "2022-07-10T14:37:33.455951",
     "status": "completed"
    },
    "tags": []
   },
   "outputs": [
    {
     "name": "stdout",
     "output_type": "stream",
     "text": [
      "ટીમે એ પણ કહ્યું કે આ વાઇરસ ચીનની લૅબમાંથી લિક થઈને માણસ સુધી પહોંચ્યો હોય એ થિયરી પણ સાચી લાગતી નથી. ચીનની મુલાકાત પૂરી થતા પહેલાં મંગળવારે એક પત્રકારપરિષદમાં વિશ્વ સ્વાસ્થ્ય સંગઠનની ટીમના પીટર બેન ઍમ્બારેકે કહ્યું કે \"તેમને એ વાતના પણ પુરાવા નથી મળ્યા કે ડિસેમ્બર 2019થી પહેલાં ચીનના વુહાનની એક માર્કેટમાંથી આ વાઇરસની ફેલાવવાની શરૂઆત થઈ.\" બેન ઍમ્બારેકે કહ્યું કે \"અત્યાર સુધીમાં જે જાણકારી સામે આવી છે તેના આધારે કોરોના વાઇરસ લૅબોરેટરીમાંથી લિક થઈને માણસો સુધી પહોંચ્યો એ થિયરી સાચી લાગતી નથી. એ બિલકુલ શક્ય નથી કે વાઇરસ લૅબમાંથી ફેલાયો હોય.\" એ વાતની આશંકા કરાઈ રહી હતી કે વુહાનના સીફૂડ માર્કેટમાંથી કોરોના વાઇરસ ફેલાયો હતો. બેન ઍમ્બારેકનું કહેવું હતું કે તેમને વાઇરસની ઉત્પત્તિનાં નવાં પ્રમાણ ચોક્કસ મળ્યાં છે, પણ તેનાથી મહામારીનું સ્વરૂપ બદલાતું નથી. રાજીવ કપૂરનું હાર્ટઍટેકથી નિધન બોલીવૂડ કલાકાર અને કપૂર ખાનદાન સાથે સંબંધ ધરાવતા અભિનેતા રાજીવ કપૂરનું નિધન થયું છે. નીતુ કપૂરે તેમના ઇન્સ્ટાગ્રામ પર તેમની તસવીર મૂકીને આ વાતની જાણ કરી હતી. આ સાથે જ ફિલ્મ ટ્રેડ એનાલિસ્ટ કોમલ નાહટાએ ટ્વીટ કરીને માહિતી આપી કે હાર્ટઍટેકને લીધે રાજીવ કપૂરનું નિધન થયું. 58 વર્ષના રાજીવ કપૂર રાજ કપૂરના સૌથી નાના પુત્ર અને ઋષિ કપૂર અને રણધીર કપૂરના ભાઈ હતા. જોકે, તેમણે વધુ ફિલ્મો નથી કરી પરંતુ 'રામ તેરી ગંગા મેલી' ફિલ્મથી તેમણે ડેબ્યૂ કર્યું હતું. કેજરીવાલની પુત્રી સાથે ઑનલાઇન 34 હજારની ઠગાઈ દિલ્હીના મુખ્ય મંત્રી અરવિંદ કેજરીવાલનાં પુત્રી હર્ષિતા સાથે એક વ્યક્તિએ કથિતપણે 34,000 રૂપિયાની ઠગાઈ કરી છે. પોલીસ દ્વારા અપાયેલ માહિતી અનુસાર હર્ષિતાએ એક ઈ-કૉમર્સ પ્લૅટફૉર્મ પર સોફા વેચવા માટે મૂક્યો હતો, ઠગાઈ કરનાર શખસે તેમનો ખરીદદાર બનીને સંપર્ક સાધ્યો હતો. હિંદુસ્તાન ટાઇમ્સના એક અહેવાલ પ્રમાણે આ ઘટનાની ફરિયાદ દિલ્હીના સિવિલ લાઇન્સ પોલીસ સ્ટેશનને મળતાં રવિવારે પોલીસે IPCની લાગતીવળગતી કલમો હેઠળ FIR દાખલ કરી છે. સોફા ખરીદવામાં રસ પ્રગટ કરનાર એક શખસે હર્ષિતાનો સંપર્ક સાધ્યો હતો. હર્ષિતાએ શૅર કરેલી એકાઉન્ટ ડિટેઇલ્સ યોગ્ય છે કે કેમ તે ચકાસવા માટે પહેલાં આ શખસ તેમના ખાતામાં થોડી રકમ ટ્રાન્સફર કરી હતી. ત્યારબાદ આ શખ્સે હર્ષિતાને એક QR કોડ મોકલ્યો અને વેચાણ માટે નક્કી કરેલ રકમ ટ્રાન્સફર કરવા માટે તે QR કોડ સ્કૅન કરવાનું કહ્યું. પરંતુ જ્યારે હર્ષિતાએ આ શખસ દ્વારા સૂચવાયેલ પગલાં લીધાં તો તેમના ખાતામાં પૈસા જમા થવાના સ્થાને તેમના ખાતામાંથી 20,000 રૂપિયા કપાઈ ગયા. ભારતે ચીન કરતાં વધુ વખત LAC ઓળંગી છે : વી. કે. સિંઘ ધ સ્ક્રોલના એક અહેવાલ મુજબ ભારતના કેન્દ્રીય મંત્રી વી. કે. સિંઘે ધ હિંદુ અખબારને કહ્યું છે કે ભારતે ચીન કરતાં વધુ વખત વાસ્તવિક નિયંત્રણ રેખા એટલે કે LAC ઓળંગી છે. વી. કે. સિંઘ, જેઓ ભૂતપૂર્વ સેનાધ્યક્ષ હતા, તેમણે કહ્યું છે કે, “જો ચીને 10 વખત સીમા ઓળંગી હશે તો આપણે ઓછામાં ઓછું 50 વખત આવું કર્યું હશે.” સિંઘે આગળ વાત કરતાં કહ્યું હતું કે ભારત અને ચીન વચ્ચેના સીમાંકન બાબતે બંને દેશોની જુદી જુદી ધારણાઓ છે. તેમણે કહ્યું કે, “ચીને પાછલાં વર્ષોમાં ઘણી વખત પોતાની ધારણા મુજબ LAC પાર કરી છે. તેવી જ રીતે અમે પણ અમારી ધારણા મુજબ ઘણીવાર સીમા ઓળંગી છે, તમને એ વાતની ખબર પડતી નથી કારણ કે ચીનનાં માધ્યમો તેનું કવરેજ કરતાં નથી.” તેમણે કહ્યું કે જ્યારે ચીને વર્ષ 2020માં પૂર્વ લદ્દાખમાં સીમા ઓળંગી, ત્યારે ભારતની પણ પ્રતિક્રિયા આવી. ત્યારે સ્થિતિ નિયંત્રણમાં હતી. “આજે ચીન પ્રેશરમાં છે, કારણ કે અમે સીમા પર એવાં સ્થાનોએ બેઠા છીએ, જ્યાં તેને ગમતું નથી.” બીજી તરફ વી. કે. સિંહના આ નિવેદન પર ચીને પણ પ્રતિક્રિયા આપી છે. ચીનના વિદેશમંત્રીના પ્રવક્તા વાંગ વેન્બિને ચીનના અખબાર ગ્લોબલ ટાઇમ્સમાં છપાયેલા એક સમાચારનો હવાલો આપતાં કહ્યું છે કે ભારત સતત ભારત-ચીન વચ્ચેની વાસ્તવિક નિયંત્રણ રેખાનું ઉલ્લંઘન કરી રહ્યું છે અને સતત ઘર્ષણની સ્થિતિ પેદા કરી રહ્યું છે. અખબાર અનુસાર સીમા પર તણાવનું આ મુખ્ય કારણ છે. વિદેશમંત્રીના પ્રવક્તાએ કહ્યું કે, “અમે ભારતને આગ્રહ કરવા માગીએ છીએ કે બંને દેશો એકમેકની સંમતિથી જે સમજૂતી પર પહોંચ્યા છે તેને પ્રામાણિકતાથી લાગુ કરે અને સીમાવર્તી ક્ષેત્રોમાં શાંતિ અને સ્થિરતાની રક્ષા માટે પગલાં ભરે.” ગુજરાતમાં સ્ટાર્ટઅપ વર્કફોર્સમાં નવ ટકાનો ઘટાડો વિજય રૂપાણી લૉકડાઉન બાદ વર્કફૉર્સમાં ઘટાડો એક સામાન્ય ઘટના બની ગઈ હતી. આવું જ કંઈક ગુજરાતના સ્ટાર્ટઅપ સાથે પણ બન્યું છે. વર્ષ 2019ની સરખામણીએ ગુજરાતમાં સ્ટાર્ટઅપમાં રોજગારી મેળવતા લોકોની સંખ્યામાં નવ ટકાનો ભારે ઘટાડો નોંધાયો છે. ટાઇમ્સ ઑફ ઇન્ડિયાના એક અહેવાલ મુજબ કેન્દ્રીય કૉમર્સ ઍન્ડ ઇન્ડસ્ટ્રી મિનિસ્ટ્રીના ડેટા પ્રમાણે વર્ષ 2019માં સ્ટાર્ટઅપમાં કામ કરતા લોકોની સંખ્યા 10,539 હતી જે વર્ષ 2020માં ઘટીને 9,577 થઈ ગઈ છે. અમદાવાદસ્થિત ફિકોલિંક ટેક્નૉલૉજીસના ફાઉન્ડર સુમિત મોહંતીએ આ વલણ વિશે વાત કરતાં કહ્યું હતું કે, “અમે લૉકડાઉન પછી નવા લોકોને રોજગારી આપવાનું બંધ કરી દીધું હતું કારણ કે અમારા સેક્ટરમાં મંદી જોઈ શકાતી હતી. આટલો સમય પસાર થઈ ગયા છતાં પણ વૃદ્ધિની ઝડપ વધી શકી નથી. અમે આવનારા નાણાકીય વર્ષમાં પોતાનો વર્કફોર્સ વધારવાની આશા રાખીએ છીએ.” ગુજરાતસ્થિત વધુ એક લીગલ-ટેક સ્ટાર્ટઅપ લીગલવીઝે પણ મહામારીના વર્ષ દરમિયાન નવા લોકોને તક આપવાનું બંધ કરી દીધું હતું. લીગલવીઝના ફાઉન્ડર શ્રીજય શેઠે આ વિશે વાત કરતાં કહ્યું હતું કે, “લૉકડાઉન બાદથી અમે રોજગારી સર્જવાનું બંધ કરી દીધું હતું. પરંતુ ડિજિટલ અડોપ્શનના કારણે અમારો બિઝનેશ વધવાની શરૂઆત થવાની સાથે જ અમે રિક્રૂટમેન્ટ શરૂ કરી દીધી છે.” હૅકરની અમેરિકાના એક શહેરનું પાણી ઝેરી કરવાની કોશિશ અમેરિકામાં અધિકારીઓનું કહેવું છે કે એક કૉમ્પ્યૂટર હૅકરે ફ્લોરિડા રાજ્યના એક શહેરના પાણી પુરવઠા માટેના યંત્રને હૅક કરીને પાણીમાં ઝેરી રસાયણ ભેળવવાની કોશિશ કરી છે. તેમણે જણાવ્યું કે એક હૅકરે ઓલ્ડસ્માર શહેરની વૉટર ટ્રીટમેન્ટ સિસ્ટમને હૅક કરીને પાણીમાં સોડિયમ હાઈડ્રોક્સાઇડનું પ્રમાણ વધારવાની કોશિશ કરી છે. પરંતુ એક કર્મચારીની તેના પર નજર પડી ગઈ અને તેણે આ પ્રક્રિયા અટકાવી દીધી. પાણીમાં એસિડિટી રોકવા માટે સોડિયમ હાઈડ્રોક્સાઇડનો ઉપયોગ ઓછી માત્રામાં કરવામાં આવે છે, તેની માત્રા વધારવાના ખરાબ પરિણામ આવી શકે છે. ઓલ્ડસ્માર શહેરના મેયરનું કહેવું છે કે કોઈ ખરાબ ઇરાદાવાળી વ્યક્તિએ આ કર્યું છે. અત્યાર સુધી આ મામલે કોઈ ધરપકડ નથી થઈ અને એ પણ ખબર નથી પડી શકી કે હૅકિંગનો આ પ્રયત્ન અમેરિકામાંથી જ થયો હતો કે કોઈ બહારના દેશમાંથી. તમે અમનેફેસબુક, ઇન્સ્ટાગ્રામ, યૂટ્યૂબ અને ટ્વિટર પર ફોલો કરી શકો છો\n"
     ]
    }
   ],
   "source": [
    "from sklearn.model_selection import train_test_split\n",
    "from keras.preprocessing.text import Tokenizer \n",
    "from keras_preprocessing.sequence import pad_sequences\n",
    "\n",
    "# train test split\n",
    "x_tr, x_test, y_tr, y_test = train_test_split(np.array(train_data['text']),\n",
    "                                         np.array(train_data['summary']),\n",
    "                                         test_size = 0.2,\n",
    "                                         random_state = 0,\n",
    "                                         shuffle = True)\n",
    "# train validation split\n",
    "x_tr,x_val,y_tr,y_val = train_test_split(x_tr,\n",
    "                                         y_tr,\n",
    "                                         test_size = 0.2,\n",
    "                                         random_state = 0,\n",
    "                                         shuffle = True)\n",
    "print(x_tr[0])"
   ]
  },
  {
   "cell_type": "code",
   "execution_count": 85,
   "id": "4fc6939a",
   "metadata": {
    "execution": {
     "iopub.execute_input": "2022-07-10T14:37:34.878162Z",
     "iopub.status.busy": "2022-07-10T14:37:34.876053Z",
     "iopub.status.idle": "2022-07-10T14:37:34.884861Z",
     "shell.execute_reply": "2022-07-10T14:37:34.883521Z"
    },
    "papermill": {
     "duration": 0.028143,
     "end_time": "2022-07-10T14:37:34.887450",
     "exception": false,
     "start_time": "2022-07-10T14:37:34.859307",
     "status": "completed"
    },
    "tags": []
   },
   "outputs": [
    {
     "data": {
      "text/plain": [
       "(5836,)"
      ]
     },
     "execution_count": 85,
     "metadata": {},
     "output_type": "execute_result"
    }
   ],
   "source": [
    "x_tr.shape"
   ]
  },
  {
   "cell_type": "code",
   "execution_count": 86,
   "id": "89833d02",
   "metadata": {
    "execution": {
     "iopub.execute_input": "2022-07-10T14:37:34.921972Z",
     "iopub.status.busy": "2022-07-10T14:37:34.920149Z",
     "iopub.status.idle": "2022-07-10T14:37:34.928685Z",
     "shell.execute_reply": "2022-07-10T14:37:34.927233Z"
    },
    "papermill": {
     "duration": 0.028004,
     "end_time": "2022-07-10T14:37:34.931324",
     "exception": false,
     "start_time": "2022-07-10T14:37:34.903320",
     "status": "completed"
    },
    "tags": []
   },
   "outputs": [
    {
     "data": {
      "text/plain": [
       "(1824,)"
      ]
     },
     "execution_count": 86,
     "metadata": {},
     "output_type": "execute_result"
    }
   ],
   "source": [
    "x_test.shape"
   ]
  },
  {
   "cell_type": "code",
   "execution_count": 87,
   "id": "176ccf4a",
   "metadata": {
    "execution": {
     "iopub.execute_input": "2022-07-10T14:37:34.965030Z",
     "iopub.status.busy": "2022-07-10T14:37:34.964217Z",
     "iopub.status.idle": "2022-07-10T14:37:34.971521Z",
     "shell.execute_reply": "2022-07-10T14:37:34.970218Z"
    },
    "papermill": {
     "duration": 0.026963,
     "end_time": "2022-07-10T14:37:34.974052",
     "exception": false,
     "start_time": "2022-07-10T14:37:34.947089",
     "status": "completed"
    },
    "tags": []
   },
   "outputs": [
    {
     "data": {
      "text/plain": [
       "(1459,)"
      ]
     },
     "execution_count": 87,
     "metadata": {},
     "output_type": "execute_result"
    }
   ],
   "source": [
    "x_val.shape"
   ]
  },
  {
   "cell_type": "code",
   "execution_count": 88,
   "id": "9e02d821",
   "metadata": {
    "execution": {
     "iopub.execute_input": "2022-07-10T14:37:35.007476Z",
     "iopub.status.busy": "2022-07-10T14:37:35.006347Z",
     "iopub.status.idle": "2022-07-10T14:37:45.977021Z",
     "shell.execute_reply": "2022-07-10T14:37:45.975738Z"
    },
    "papermill": {
     "duration": 10.990562,
     "end_time": "2022-07-10T14:37:45.980178",
     "exception": false,
     "start_time": "2022-07-10T14:37:34.989616",
     "status": "completed"
    },
    "tags": []
   },
   "outputs": [],
   "source": [
    "# Tokenize text to get the vocab count\n",
    "#prepare a tokenizer for training data\n",
    "x_tokenizer = Tokenizer() \n",
    "x_tokenizer.fit_on_texts(list(x_tr))\n",
    "\n",
    "#prepare a tokenizer for reviews on training data\n",
    "y_tokenizer = Tokenizer()   \n",
    "y_tokenizer.fit_on_texts(list(y_tr))"
   ]
  },
  {
   "cell_type": "code",
   "execution_count": 89,
   "id": "ea7fe4c0",
   "metadata": {},
   "outputs": [
    {
     "name": "stdout",
     "output_type": "stream",
     "text": [
      "202450\n"
     ]
    }
   ],
   "source": [
    "counter=0\n",
    "for key,value in x_tokenizer.word_counts.items():\n",
    "    counter+=1\n",
    "#     print(key,value)\n",
    "print(counter)"
   ]
  },
  {
   "cell_type": "code",
   "execution_count": 90,
   "id": "f755882b",
   "metadata": {
    "execution": {
     "iopub.execute_input": "2022-07-10T14:37:46.014964Z",
     "iopub.status.busy": "2022-07-10T14:37:46.014603Z",
     "iopub.status.idle": "2022-07-10T14:37:46.139132Z",
     "shell.execute_reply": "2022-07-10T14:37:46.137706Z"
    },
    "papermill": {
     "duration": 0.145921,
     "end_time": "2022-07-10T14:37:46.142990",
     "exception": false,
     "start_time": "2022-07-10T14:37:45.997069",
     "status": "completed"
    },
    "tags": []
   },
   "outputs": [
    {
     "name": "stdout",
     "output_type": "stream",
     "text": [
      "% of rare words in vocabulary: 73.04519634477649\n",
      "Total Coverage of rare words: 4.573076900000733\n"
     ]
    }
   ],
   "source": [
    "thresh=4\n",
    "\n",
    "cnt=0\n",
    "tot_cnt=0\n",
    "freq=0\n",
    "tot_freq=0\n",
    "\n",
    "for key,value in x_tokenizer.word_counts.items():\n",
    "    tot_cnt=tot_cnt+1\n",
    "    tot_freq=tot_freq+value\n",
    "    if(value<thresh):\n",
    "        cnt=cnt+1\n",
    "        freq=freq+value\n",
    "    \n",
    "print(\"% of rare words in vocabulary:\",(cnt/tot_cnt)*100)\n",
    "print(\"Total Coverage of rare words:\",(freq/tot_freq)*100)"
   ]
  },
  {
   "cell_type": "code",
   "execution_count": 91,
   "id": "6db10bd7",
   "metadata": {
    "execution": {
     "iopub.execute_input": "2022-07-10T14:37:46.177170Z",
     "iopub.status.busy": "2022-07-10T14:37:46.176853Z",
     "iopub.status.idle": "2022-07-10T14:37:46.253927Z",
     "shell.execute_reply": "2022-07-10T14:37:46.252618Z"
    },
    "papermill": {
     "duration": 0.097611,
     "end_time": "2022-07-10T14:37:46.257028",
     "exception": false,
     "start_time": "2022-07-10T14:37:46.159417",
     "status": "completed"
    },
    "tags": []
   },
   "outputs": [],
   "source": [
    "import seaborn as sns\n",
    "from time import time"
   ]
  },
  {
   "cell_type": "code",
   "execution_count": 92,
   "id": "b09d93db",
   "metadata": {
    "execution": {
     "iopub.execute_input": "2022-07-10T14:37:46.291194Z",
     "iopub.status.busy": "2022-07-10T14:37:46.290846Z",
     "iopub.status.idle": "2022-07-10T14:38:12.052329Z",
     "shell.execute_reply": "2022-07-10T14:38:12.050980Z"
    },
    "papermill": {
     "duration": 25.782642,
     "end_time": "2022-07-10T14:38:12.055922",
     "exception": false,
     "start_time": "2022-07-10T14:37:46.273280",
     "status": "completed"
    },
    "tags": []
   },
   "outputs": [
    {
     "name": "stdout",
     "output_type": "stream",
     "text": [
      "Size of vocabulary in X = 54570\n",
      "Size of vocabulary in X = 54571\n"
     ]
    }
   ],
   "source": [
    "#prepare a tokenizer for reviews on training data\n",
    "\n",
    "# ###############LEFT HERE  ###################\n",
    "\n",
    "x_tokenizer = Tokenizer(tot_cnt-cnt) \n",
    "x_tokenizer.fit_on_texts(list(x_tr))\n",
    "print(\"Size of vocabulary in X = {}\".format(x_tokenizer.num_words))\n",
    "# convert text sequences into integer sequences (i.e one-hot encodeing all the words)\n",
    "x_tr_seq    =   x_tokenizer.texts_to_sequences(x_tr) \n",
    "x_val_seq   =   x_tokenizer.texts_to_sequences(x_val)\n",
    "x_test_seq = x_tokenizer.texts_to_sequences(x_test)\n",
    "\n",
    "#padding zero upto maximum length\n",
    "x_tr    =   pad_sequences(x_tr_seq,  maxlen=max_text_len, padding='post')\n",
    "x_val   =   pad_sequences(x_val_seq, maxlen=max_text_len, padding='post')\n",
    "x_test = pad_sequences(x_test_seq, maxlen=max_text_len, padding='post')\n",
    "\n",
    "#size of vocabulary ( +1 for padding token)\n",
    "x_voc   =  x_tokenizer.num_words + 1\n",
    "\n",
    "print(\"Size of vocabulary in X = {}\".format(x_voc))"
   ]
  },
  {
   "cell_type": "code",
   "execution_count": 67,
   "id": "316cceec",
   "metadata": {
    "execution": {
     "iopub.execute_input": "2022-07-10T14:38:12.091362Z",
     "iopub.status.busy": "2022-07-10T14:38:12.091037Z",
     "iopub.status.idle": "2022-07-10T14:38:14.759021Z",
     "shell.execute_reply": "2022-07-10T14:38:14.756109Z"
    },
    "papermill": {
     "duration": 2.689143,
     "end_time": "2022-07-10T14:38:14.762962",
     "exception": false,
     "start_time": "2022-07-10T14:38:12.073819",
     "status": "completed"
    },
    "tags": []
   },
   "outputs": [
    {
     "name": "stdout",
     "output_type": "stream",
     "text": [
      "Size of vocabulary in Y = 54571\n"
     ]
    }
   ],
   "source": [
    "#prepare a tokenizer for reviews on training data\n",
    "y_tokenizer = Tokenizer(num_words = tot_cnt-cnt) \n",
    "y_tokenizer.fit_on_texts(list(y_tr))\n",
    "\n",
    "#convert text sequences into integer sequences (i.e one hot encode the text in Y)\n",
    "y_tr_seq    =   y_tokenizer.texts_to_sequences(y_tr) \n",
    "y_val_seq   =   y_tokenizer.texts_to_sequences(y_val) \n",
    "y_test_seq = y_tokenizer.texts_to_sequences(y_test) \n",
    "\n",
    "#padding zero upto maximum length\n",
    "y_tr    =   pad_sequences(y_tr_seq, maxlen=max_summary_len, padding='post')\n",
    "y_val   =   pad_sequences(y_val_seq, maxlen=max_summary_len, padding='post')\n",
    "y_test = pad_sequences(y_test_seq, maxlen=max_summary_len, padding='post')\n",
    "\n",
    "#size of vocabulary\n",
    "y_voc  =   y_tokenizer.num_words +1\n",
    "print(\"Size of vocabulary in Y = {}\".format(y_voc))"
   ]
  },
  {
   "cell_type": "code",
   "execution_count": 59,
   "id": "a90852b2",
   "metadata": {
    "execution": {
     "iopub.execute_input": "2022-07-10T14:38:14.797265Z",
     "iopub.status.busy": "2022-07-10T14:38:14.796959Z",
     "iopub.status.idle": "2022-07-10T14:38:16.525494Z",
     "shell.execute_reply": "2022-07-10T14:38:16.524036Z"
    },
    "papermill": {
     "duration": 1.748776,
     "end_time": "2022-07-10T14:38:16.528617",
     "exception": false,
     "start_time": "2022-07-10T14:38:14.779841",
     "status": "completed"
    },
    "tags": []
   },
   "outputs": [],
   "source": [
    "ind=[]\n",
    "for i in range(len(y_tr)):\n",
    "    cnt=0\n",
    "    for j in y_tr[i]:\n",
    "        if j!=0:\n",
    "            cnt=cnt+1\n",
    "    if(cnt==2):\n",
    "        ind.append(i)\n",
    "\n",
    "y_tr=np.delete(y_tr,ind, axis=0)\n",
    "x_tr=np.delete(x_tr,ind, axis=0)"
   ]
  },
  {
   "cell_type": "code",
   "execution_count": 60,
   "id": "f260ac24",
   "metadata": {
    "execution": {
     "iopub.execute_input": "2022-07-10T14:38:16.565330Z",
     "iopub.status.busy": "2022-07-10T14:38:16.563256Z",
     "iopub.status.idle": "2022-07-10T14:38:16.994720Z",
     "shell.execute_reply": "2022-07-10T14:38:16.993415Z"
    },
    "papermill": {
     "duration": 0.452218,
     "end_time": "2022-07-10T14:38:16.997758",
     "exception": false,
     "start_time": "2022-07-10T14:38:16.545540",
     "status": "completed"
    },
    "tags": []
   },
   "outputs": [],
   "source": [
    "ind=[]\n",
    "for i in range(len(y_val)):\n",
    "    cnt=0\n",
    "    for j in y_val[i]:\n",
    "        if j!=0:\n",
    "            cnt=cnt+1\n",
    "    if(cnt==2):\n",
    "        ind.append(i)\n",
    "\n",
    "y_val=np.delete(y_val,ind, axis=0)\n",
    "x_val=np.delete(x_val,ind, axis=0)"
   ]
  },
  {
   "cell_type": "code",
   "execution_count": 61,
   "id": "b93dab0d",
   "metadata": {
    "execution": {
     "iopub.execute_input": "2022-07-10T14:38:17.031888Z",
     "iopub.status.busy": "2022-07-10T14:38:17.031505Z",
     "iopub.status.idle": "2022-07-10T14:38:17.964111Z",
     "shell.execute_reply": "2022-07-10T14:38:17.962863Z"
    },
    "papermill": {
     "duration": 0.952983,
     "end_time": "2022-07-10T14:38:17.967271",
     "exception": false,
     "start_time": "2022-07-10T14:38:17.014288",
     "status": "completed"
    },
    "tags": []
   },
   "outputs": [],
   "source": [
    "from tensorflow.keras.backend import clear_session\n",
    "# import gensim\n",
    "import re\n",
    "# from bs4 import BeautifulSoup\n",
    "from keras.preprocessing.text import Tokenizer \n",
    "# from keras.preprocessing.sequence import pad_sequences\n",
    "from nltk.corpus import stopwords\n",
    "from tensorflow.keras.layers import Input, LSTM, Embedding, Dense, Concatenate, TimeDistributed\n",
    "from tensorflow.keras.models import Model\n",
    "from tensorflow.keras.callbacks import EarlyStopping\n",
    "import warnings\n",
    "warnings.filterwarnings(\"ignore\")"
   ]
  },
  {
   "cell_type": "code",
   "execution_count": 62,
   "id": "ead31a19",
   "metadata": {
    "execution": {
     "iopub.execute_input": "2022-07-10T14:38:18.001082Z",
     "iopub.status.busy": "2022-07-10T14:38:18.000680Z",
     "iopub.status.idle": "2022-07-10T14:38:24.835510Z",
     "shell.execute_reply": "2022-07-10T14:38:24.833227Z"
    },
    "papermill": {
     "duration": 6.854743,
     "end_time": "2022-07-10T14:38:24.838180",
     "exception": false,
     "start_time": "2022-07-10T14:38:17.983437",
     "status": "completed"
    },
    "scrolled": true,
    "tags": []
   },
   "outputs": [
    {
     "name": "stdout",
     "output_type": "stream",
     "text": [
      "Size of vocabulary from the w2v model = 54571\n",
      "Model: \"model\"\n",
      "__________________________________________________________________________________________________\n",
      " Layer (type)                   Output Shape         Param #     Connected to                     \n",
      "==================================================================================================\n",
      " input_1 (InputLayer)           [(None, 300)]        0           []                               \n",
      "                                                                                                  \n",
      " embedding (Embedding)          (None, 300, 100)     5457100     ['input_1[0][0]']                \n",
      "                                                                                                  \n",
      " lstm (LSTM)                    [(None, 300, 300),   481200      ['embedding[0][0]']              \n",
      "                                 (None, 300),                                                     \n",
      "                                 (None, 300)]                                                     \n",
      "                                                                                                  \n",
      " input_2 (InputLayer)           [(None, None)]       0           []                               \n",
      "                                                                                                  \n",
      " lstm_1 (LSTM)                  [(None, 300, 300),   721200      ['lstm[0][0]']                   \n",
      "                                 (None, 300),                                                     \n",
      "                                 (None, 300)]                                                     \n",
      "                                                                                                  \n",
      " embedding_1 (Embedding)        (None, None, 100)    5457100     ['input_2[0][0]']                \n",
      "                                                                                                  \n",
      " lstm_2 (LSTM)                  [(None, 300, 300),   721200      ['lstm_1[0][0]']                 \n",
      "                                 (None, 300),                                                     \n",
      "                                 (None, 300)]                                                     \n",
      "                                                                                                  \n",
      " lstm_3 (LSTM)                  [(None, None, 300),  481200      ['embedding_1[0][0]',            \n",
      "                                 (None, 300),                     'lstm_2[0][1]',                 \n",
      "                                 (None, 300)]                     'lstm_2[0][2]']                 \n",
      "                                                                                                  \n",
      " time_distributed (TimeDistribu  (None, None, 54571)  16425871   ['lstm_3[0][0]']                 \n",
      " ted)                                                                                             \n",
      "                                                                                                  \n",
      "==================================================================================================\n",
      "Total params: 29,744,871\n",
      "Trainable params: 29,744,871\n",
      "Non-trainable params: 0\n",
      "__________________________________________________________________________________________________\n"
     ]
    }
   ],
   "source": [
    "print(f\"Size of vocabulary from the w2v model = {x_voc}\")\n",
    "\n",
    "clear_session()\n",
    "\n",
    "latent_dim = 300\n",
    "embedding_dim = 100\n",
    "\n",
    "# Encoder\n",
    "encoder_inputs = Input(shape=(max_text_len,))\n",
    "\n",
    "#embedding layer\n",
    "enc_emb =  Embedding(x_voc, embedding_dim,trainable=True)(encoder_inputs)\n",
    "\n",
    "#encoder lstm 1\n",
    "encoder_lstm1 = LSTM(latent_dim,return_sequences=True,return_state=True,dropout=0.4,recurrent_dropout=0.4)\n",
    "encoder_output1, state_h1, state_c1 = encoder_lstm1(enc_emb)\n",
    "\n",
    "#encoder lstm 2\n",
    "encoder_lstm2 = LSTM(latent_dim,return_sequences=True,return_state=True,dropout=0.4,recurrent_dropout=0.4)\n",
    "encoder_output2, state_h2, state_c2 = encoder_lstm2(encoder_output1)\n",
    "\n",
    "#encoder lstm 3\n",
    "encoder_lstm3=LSTM(latent_dim, return_state=True, return_sequences=True,dropout=0.4,recurrent_dropout=0.4)\n",
    "encoder_outputs, state_h, state_c= encoder_lstm3(encoder_output2)\n",
    "\n",
    "# Set up the decoder, using `encoder_states` as initial state.\n",
    "decoder_inputs = Input(shape=(None,))\n",
    "\n",
    "#embedding layer\n",
    "dec_emb_layer = Embedding(y_voc, embedding_dim,trainable=True)\n",
    "dec_emb = dec_emb_layer(decoder_inputs)\n",
    "\n",
    "decoder_lstm = LSTM(latent_dim, return_sequences=True, return_state=True,dropout=0.4,recurrent_dropout=0.2)\n",
    "decoder_outputs,decoder_fwd_state, decoder_back_state = decoder_lstm(dec_emb, initial_state=[state_h, state_c])\n",
    "\n",
    "#dense layer\n",
    "decoder_dense =  TimeDistributed(Dense(y_voc, activation='softmax'))\n",
    "decoder_outputs = decoder_dense(decoder_outputs)\n",
    "\n",
    "# Define the model \n",
    "model = Model([encoder_inputs, decoder_inputs], decoder_outputs)\n",
    "\n",
    "model.summary()"
   ]
  },
  {
   "cell_type": "code",
   "execution_count": 63,
   "id": "c0d6d5bc",
   "metadata": {
    "execution": {
     "iopub.execute_input": "2022-07-10T14:38:24.877890Z",
     "iopub.status.busy": "2022-07-10T14:38:24.875281Z",
     "iopub.status.idle": "2022-07-10T14:38:26.227931Z",
     "shell.execute_reply": "2022-07-10T14:38:26.226404Z"
    },
    "papermill": {
     "duration": 1.375213,
     "end_time": "2022-07-10T14:38:26.230607",
     "exception": false,
     "start_time": "2022-07-10T14:38:24.855394",
     "status": "completed"
    },
    "tags": []
   },
   "outputs": [
    {
     "name": "stdout",
     "output_type": "stream",
     "text": [
      "You must install pydot (`pip install pydot`) and install graphviz (see instructions at https://graphviz.gitlab.io/download/) for plot_model/model_to_dot to work.\n"
     ]
    }
   ],
   "source": [
    "tf.keras.utils.plot_model(\n",
    "    model, to_file='model.png', show_shapes=True, show_layer_names=True,\n",
    "    rankdir='TB', expand_nested=False, dpi=96\n",
    ")"
   ]
  },
  {
   "cell_type": "code",
   "execution_count": 64,
   "id": "696a9559",
   "metadata": {
    "execution": {
     "iopub.execute_input": "2022-07-10T14:38:26.268528Z",
     "iopub.status.busy": "2022-07-10T14:38:26.267899Z",
     "iopub.status.idle": "2022-07-10T14:38:26.289526Z",
     "shell.execute_reply": "2022-07-10T14:38:26.288301Z"
    },
    "papermill": {
     "duration": 0.042262,
     "end_time": "2022-07-10T14:38:26.292194",
     "exception": false,
     "start_time": "2022-07-10T14:38:26.249932",
     "status": "completed"
    },
    "tags": []
   },
   "outputs": [],
   "source": [
    "model.compile(optimizer='rmsprop', loss='sparse_categorical_crossentropy')\n",
    "\n",
    "es = EarlyStopping(monitor='val_loss', mode='min', verbose=1,patience=2)"
   ]
  },
  {
   "cell_type": "code",
   "execution_count": null,
   "id": "9260401d",
   "metadata": {
    "execution": {
     "iopub.execute_input": "2022-07-10T14:38:26.330187Z",
     "iopub.status.busy": "2022-07-10T14:38:26.328871Z",
     "iopub.status.idle": "2022-07-10T19:13:58.880858Z",
     "shell.execute_reply": "2022-07-10T19:13:58.879452Z"
    },
    "papermill": {
     "duration": 16532.57402,
     "end_time": "2022-07-10T19:13:58.883668",
     "exception": false,
     "start_time": "2022-07-10T14:38:26.309648",
     "status": "completed"
    },
    "tags": []
   },
   "outputs": [
    {
     "name": "stdout",
     "output_type": "stream",
     "text": [
      "Epoch 1/10\n",
      "35/46 [=====================>........] - ETA: 27:32 - loss: 8.6386"
     ]
    }
   ],
   "source": [
    "history=model.fit([x_tr,y_tr[:,:-1]], y_tr.reshape(y_tr.shape[0],y_tr.shape[1], 1)[:,1:] ,epochs=10,callbacks=[es],batch_size=128, validation_data=([x_val,y_val[:,:-1]], y_val.reshape(y_val.shape[0],y_val.shape[1], 1)[:,1:]))"
   ]
  },
  {
   "cell_type": "code",
   "execution_count": 44,
   "id": "8f741f71",
   "metadata": {
    "execution": {
     "iopub.execute_input": "2022-07-10T19:13:59.287467Z",
     "iopub.status.busy": "2022-07-10T19:13:59.287121Z",
     "iopub.status.idle": "2022-07-10T19:13:59.618037Z",
     "shell.execute_reply": "2022-07-10T19:13:59.616754Z"
    },
    "papermill": {
     "duration": 0.536612,
     "end_time": "2022-07-10T19:13:59.620841",
     "exception": false,
     "start_time": "2022-07-10T19:13:59.084229",
     "status": "completed"
    },
    "tags": []
   },
   "outputs": [],
   "source": [
    "model.save(\"HindiTextModel.h5\")"
   ]
  },
  {
   "cell_type": "code",
   "execution_count": 45,
   "id": "259fae59",
   "metadata": {
    "execution": {
     "iopub.execute_input": "2022-07-10T19:14:00.017109Z",
     "iopub.status.busy": "2022-07-10T19:14:00.016782Z",
     "iopub.status.idle": "2022-07-10T19:14:00.148950Z",
     "shell.execute_reply": "2022-07-10T19:14:00.147817Z"
    },
    "papermill": {
     "duration": 0.339599,
     "end_time": "2022-07-10T19:14:00.151668",
     "exception": false,
     "start_time": "2022-07-10T19:13:59.812069",
     "status": "completed"
    },
    "tags": []
   },
   "outputs": [],
   "source": [
    "reverse_target_word_index=y_tokenizer.index_word\n",
    "reverse_source_word_index=x_tokenizer.index_word\n",
    "target_word_index=y_tokenizer.word_index\n",
    "\n",
    "# Encode the input sequence to get the feature vector\n",
    "encoder_model = Model(inputs=encoder_inputs,outputs=[encoder_outputs, state_h, state_c])\n",
    "\n",
    "# Decoder setup\n",
    "# Below tensors will hold the states of the previous time step\n",
    "decoder_state_input_h = Input(shape=(latent_dim,))\n",
    "decoder_state_input_c = Input(shape=(latent_dim,))\n",
    "decoder_hidden_state_input = Input(shape=(max_text_len,latent_dim))\n",
    "\n",
    "# Get the embeddings of the decoder sequence\n",
    "dec_emb2= dec_emb_layer(decoder_inputs) \n",
    "# To predict the next word in the sequence, set the initial states to the states from the previous time step\n",
    "decoder_outputs2, state_h2, state_c2 = decoder_lstm(dec_emb2, initial_state=[decoder_state_input_h, decoder_state_input_c])\n",
    "\n",
    "# A dense softmax layer to generate prob dist. over the target vocabulary\n",
    "decoder_outputs2 = decoder_dense(decoder_outputs2) \n",
    "\n",
    "# Final decoder model\n",
    "decoder_model = Model(\n",
    "    [decoder_inputs] + [decoder_hidden_state_input,decoder_state_input_h, decoder_state_input_c],\n",
    "    [decoder_outputs2] + [state_h2, state_c2])\n"
   ]
  },
  {
   "cell_type": "code",
   "execution_count": 46,
   "id": "50d1e3a5",
   "metadata": {
    "execution": {
     "iopub.execute_input": "2022-07-10T19:14:00.529565Z",
     "iopub.status.busy": "2022-07-10T19:14:00.527626Z",
     "iopub.status.idle": "2022-07-10T19:14:00.538813Z",
     "shell.execute_reply": "2022-07-10T19:14:00.537704Z"
    },
    "papermill": {
     "duration": 0.204268,
     "end_time": "2022-07-10T19:14:00.541665",
     "exception": false,
     "start_time": "2022-07-10T19:14:00.337397",
     "status": "completed"
    },
    "tags": []
   },
   "outputs": [],
   "source": [
    "def decode_sequence(input_seq):\n",
    "    # Encode the input as state vectors.\n",
    "    e_out, e_h, e_c = encoder_model.predict(input_seq)\n",
    "    \n",
    "    # Generate empty target sequence of length 1.\n",
    "    target_seq = np.zeros((1,1))\n",
    "    \n",
    "    # Populate the first word of target sequence with the start word.\n",
    "    target_seq[0, 0] = target_word_index['sostok']\n",
    "\n",
    "    stop_condition = False\n",
    "    decoded_sentence = ''\n",
    "    while not stop_condition:\n",
    "      \n",
    "        output_tokens, h, c = decoder_model.predict([target_seq] + [e_out, e_h, e_c])\n",
    "\n",
    "        # Sample a token\n",
    "        sampled_token_index = np.argmax(output_tokens[0, -1, :])\n",
    "        sampled_token = reverse_target_word_index[sampled_token_index]\n",
    "        \n",
    "        if(sampled_token!='eostok'):\n",
    "            decoded_sentence += ' '+sampled_token\n",
    "\n",
    "        # Exit condition: either hit max length or find stop word.\n",
    "        if (sampled_token == 'eostok'  or len(decoded_sentence.split()) >= (max_summary_len-1)):\n",
    "            stop_condition = True\n",
    "\n",
    "        # Update the target sequence (of length 1).\n",
    "        target_seq = np.zeros((1,1))\n",
    "        target_seq[0, 0] = sampled_token_index\n",
    "\n",
    "        # Update internal states\n",
    "        e_h, e_c = h, c\n",
    "\n",
    "    return decoded_sentence"
   ]
  },
  {
   "cell_type": "code",
   "execution_count": 47,
   "id": "0f8a507a",
   "metadata": {
    "execution": {
     "iopub.execute_input": "2022-07-10T19:14:00.925994Z",
     "iopub.status.busy": "2022-07-10T19:14:00.925635Z",
     "iopub.status.idle": "2022-07-10T19:14:00.933099Z",
     "shell.execute_reply": "2022-07-10T19:14:00.931764Z"
    },
    "papermill": {
     "duration": 0.205694,
     "end_time": "2022-07-10T19:14:00.935425",
     "exception": false,
     "start_time": "2022-07-10T19:14:00.729731",
     "status": "completed"
    },
    "tags": []
   },
   "outputs": [],
   "source": [
    "def seq2summary(input_seq):\n",
    "    newString=''\n",
    "    for i in input_seq:\n",
    "        if((i!=0 and i!=target_word_index['sostok']) and i!=target_word_index['eostok']):\n",
    "            newString=newString+reverse_target_word_index[i]+' '\n",
    "    return newString\n",
    "\n",
    "def seq2text(input_seq):\n",
    "    newString=''\n",
    "    for i in input_seq:\n",
    "        if(i!=0):\n",
    "            newString=newString+reverse_source_word_index[i]+' '\n",
    "    return newString"
   ]
  },
  {
   "cell_type": "code",
   "execution_count": 48,
   "id": "1231c1cc",
   "metadata": {
    "execution": {
     "iopub.execute_input": "2022-07-10T19:14:01.365642Z",
     "iopub.status.busy": "2022-07-10T19:14:01.365184Z",
     "iopub.status.idle": "2022-07-10T19:14:09.742320Z",
     "shell.execute_reply": "2022-07-10T19:14:09.739726Z"
    },
    "papermill": {
     "duration": 8.622672,
     "end_time": "2022-07-10T19:14:09.746656",
     "exception": false,
     "start_time": "2022-07-10T19:14:01.123984",
     "status": "completed"
    },
    "tags": []
   },
   "outputs": [
    {
     "name": "stdout",
     "output_type": "stream",
     "text": [
      "Review: कुटीर लघु और मध्यम उद्यमों को कर्ज देने के अनोखे तरीके तलाशने के लिए रिजर्व बैंक का पुणे स्थित कृषि बैंकिंग महाविद्यालय बैंकों के लिए एक प्रतियोगिता आयोजित करेगा इस प्रतियोगिता का विषय है केस स्टडी एक एमएसएमई को नए ढंग से कर्ज आबंटन कर्ज देने के नए तरीकों पर केस ने एक सर्कुलर जारी कर कहा प्रतियोगिता आयोजित करने का उद्देश्य बैंकों को ऐसे मामलों का अध्ययन करने के लिए प्रोत्साहित करना है जहां कुटीर लघु और मझोले उद्यमों को अनोखे तरीके से कर्ज दिया गया हो और ऐसे मामलों को लेकर दूसरे बैंकों को भी संवेदनशील बनाया जा सके ये कर्मचारी ले सकते हैं बैंक ने कहा कि बैंकों के कर्मचारी सदस्य जिसमें बैंकों के प्रशिक्षण प्रतिष्ठानों के फैकल्टी सदस्य क्षेत्रीय ग्रामीण बैंकों राज्य सहकारी बैंकों और शहरी सहकारी बैंकोंके सदस्य शामिल हैं इस प्रतियोगिता में हिस्सा ले सकते हैं अंग्रेजी या हिंदी भाषा का अलावा इन बैंकों के प्रशिक्षण प्रतिष्ठानों से फैकल्टी सदस्य और गैर बैंकिंग वित्तीय कंपनियों के कर्मचारी सदस्य भी इस प्रतियोगिता में हिस्सा ले सकते हैं आरबीआई ने स्टडी अंग्रेजी या हिंदी जनवरी तक मांगे हैं \n",
      "Original summary: कर्ज देने के अनोखे तरीके खोजने को आरबीआई लिखित प्रतियोगिता कराएगा \n",
      "Predicted summary:  दिल्ली में एक बार की मौत\n",
      "\n",
      "\n",
      "Review: लोकसभा चुनाव में जीत हासिल करने के लिए उम्मीदवार अपनी पूरी ताकत दिखाना चाहते हैं लेकिन उत्तर प्रदेश के उन्नाव से भारतीय जनता पार्टी के उम्मीदवार और अपने बयानों को लेकर चर्चा में रहने वाले साक्षी महाराज को नामांकन में ताकत दिखाना भारी पड़ गया नामांकन के दौरान से अधिक वाहन ले जाने के मामले में साक्षी महाराज पर केस दर्ज हो गया है साक्षी महाराज पर चुनाव आचार संहिता के उल्लंघन का मामला दर्ज हुआ है सोमवार को उन्होंने उन्नाव सीट से नामांकन किया इस दौरान उनके साथ से अधिक गाड़ियों का काफिला था लेकिन जब उनसे इन गाड़ियों के पास मांगे गए थे तो सभी की इजाजत दिखाने में वह नाकाम रहे और सिर्फ गाड़ियों के पास ही दिखा पाए इसके बाद प्रशासन ने उनके खिलाफ आदर्श आचार संहिता के उल्लंघन का मामला दर्ज किया है उन्नाव से पर्चा भरने के बाद साक्षी महाराज ने कांग्रेस पर राम मंदिर मुद्दे को लेकर निशाना साधा साक्षी महाराज ने कहा था कि कभी मंदिर के मुद्दे पर राजनीति नहीं करती है लेकिन कांग्रेस ने अगर अड़ंगा नहीं डाला होता तो अब तक राम मंदिर का निर्माण शुरू हो गया होता नेता ने कहा था कि यूपी से सीटें भाजपा जीतेगी और अबकी पार है साक्षी ने कहा कि सपा बसपा का गठबंधन नहीं है गौरतलब है कि साक्षी महाराज के टिकट को लेकर इस बार काफी विवाद हुआ था पहले अटकलें लगाई जा रही थीं कि उनका टिकट कट सकता है जिसके बाद उन्होंने यूपी बीजेपी के अध्यक्ष महेंद्र नाथ पांडेय को चिट्ठी लिख चेतावनी दी थी लेकिन बाद में जब टिकट वितरण हुआ था तो साक्षी महाराज को एक बार फिर मौका दिया गया चुनाव की हर ख़बर मिलेगी सीधे आपके इनबॉक्स में आम चुनाव की ताज़ा खबरों से अपडेट रहने के लिएसब्सक्राइबकरें आजतक का इलेक्शन स्पेशल न्यूज़लेटर \n",
      "Original summary: नामांकन में गाड़ी ले जाने पर बढ़ी साक्षी महाराज की मुश्किलें केस दर्ज \n",
      "Predicted summary:  दिल्ली में एक बार की मौत\n",
      "\n",
      "\n",
      "Review: स्पोर्ट्स डेवलपमेंट ऑथोरिटी ऑफ तमिलनाडु में जूनियर असिस्टेंट कम टाइपिस्ट के पदों के लिए भर्तियां निकली हैं इन पदों के लिए आवेदन सितंबर तक स्वीकार किए जाएंगे पदों का विवरण जूनियर असिस्टेंट कम टाइपिस्ट असिस्टेंट ग्रेड कमर्शियल एकाउंटेंट असिस्टेंट इंजीनियर स्पोर्टस टेक्नोलॉजी असिस्टेंट इंजीनियर इलेक्ट्रिकल उम्र सीमा से सालज्यादा जानकारी के लिए पर लॉग इन करें \n",
      "Original summary: स्पोर्ट्स डेवलपमेंट ऑथोरिटी ऑफ तमिलनाडु में वैकेंसी \n",
      "Predicted summary:  दिल्ली में एक बार की मौत\n",
      "\n",
      "\n",
      "Review: घर हो या दफ्तर राजधानी में महिलाएं कहीं भी सुरक्षित नहीं है दिल्ली के डीडीयू अस्पताल में महिलाएं अपने लिए सुरक्षा की मांग कर रही है दरअसल रात की ड्यूटी के दौरान अस्पताल की एक नर्स के साथ तीन लोगों ने नशे की हालत में छेड़छाड़ की और विरोध करने पर देख लेने की धमकी भी दी छेड़खानी का आरोप अस्पताल के स्टॉफ के ही बेटे पर है शिकायत के बावजूद कई घंटे बीत जाने के बाद भी पुलिस ने मामला दर्ज नहीं किया इस मामले को लेकर नर्सों ने एमएस ऑफिस के बाहर जमकर प्रदर्शन किया और अस्पताल प्रशासन के खिलाफ नारेबाजी भी की नर्सों ने सुरक्षा की मांग की है और मामला दर्ज कर आरोपी की गिरफ़्तारी की मांग भी की है \n",
      "Original summary: अस्पताल में नर्स के साथ छेड़छाड़ \n",
      "Predicted summary:  दिल्ली में एक बार की मौत\n",
      "\n",
      "\n",
      "Review: आज संविधान समिति के अध्यक्ष और भारत के पहले कानून मंत्री बाबासाहब भीमराव अंबेडकर की वीं जयंती है इस मौके ने आज अपना अंबेडकर के नाम समर्पित किया है गूगल अक्सर महान शख्सियतों को सम्मान देने के लिए ऐसा करता आया है पूरे देश में भी अंबेडकर की जयंती के लिए कई कार्यक्रम आयोजित किए जा रहे हैं कई राजनीतिक पार्टियों ने भी अंबेडकर की जयंती के लिए कार्यक्रमों का आयोजन किया है मुफ्ती ने दी अंबेडकर को मुफ्ती मोहम्मद सईद ने भी बीआर अंबेडकर को उनकी वीं जयंती की पूर्व संध्या पर श्रद्धांजलि दी जम्मू कश्मीर के राज्यपाल राज्यपाल नरेंद्र नाथ वोहरा ने अपने संदेश में याद किया कि एक उत्कृष्ट अंबेडकर ने भारतीय संविधान तैयार करने और राष्ट्र निर्माण में महत्वपूर्ण योगदान दिया विशेष तौर पर समाज के कमजोर वर्गों के उत्थान में सईद ने अपने संदेश में कहा कि डा अंबेडकर एक महान सामाजिक सुधारक एवं कानून विद् थे जिन्होंने भारतीय संविधान तैयार करने में एक महत्वपूर्ण भूमिका निभाई \n",
      "Original summary: आज का गूगल डूडल डॉ अंबेडकर के नाम \n",
      "Predicted summary:  दिल्ली में एक बार की मौत\n",
      "\n",
      "\n",
      "Review: लखनऊ में घंटों के भीतर के मामले सामने आए हैं ताजा मामले स्कूली छात्र छात्राओं के आत्महत्या के हैं आत्महत्या करने वाला साल का विजय अगर होता तो देख पाता कि उसकी मां कितना तड़प रही है उसने सिर्फ इसलिए अपनी जान दे दी कि उसे स्कूल आने से रोका गया था उसे लगभग डेढ़ महीने पहले स्कूल से निकाल दिया गया था उसके पिता के मुताबिक एक अध्यापिका ने उसे मुर्गा बनने के लिए कहा था सातवीं क्लास में पढ़ने वाली शिवानी न जाने किस बात से गुस्से में आकर अपनी जान दे दी पिछले घंटों में खुदकुशी की घटनाओं ने लखनऊ को हिलाकर रख दिया है यह सवाल अपनी जगह बरकरार है कि इन बच्चों को आखिर हुआ क्या है इन्हें कोई कैसे समझाए कि जिंदगी की कोई भी समस्या इतनी बड़ी नहीं होती कि उसके आगे जिंदगी ही हार जाए \n",
      "Original summary: लखनऊ में घंटों के भीतर खुदकुशी \n",
      "Predicted summary:  दिल्ली में एक बार की मौत\n",
      "\n",
      "\n",
      "Review: विश्व हिंदू परिषदके प्रमुख डॉ प्रवीण तोगड़िया ने एक बार फिर विवादित बयान दे डाला है उन्होंने रावलपिंडी और लाहौर में भगवा लहराने की बात की यही नहीं उन्होंने एक के बाद एक विवादित बयान दिए वीएचपी के स्वर्ण जयंती वर्ष के मौके पर राजस्थान के पाली में उन्होंने कहा हम सब उत्सव तब मनाएंगे जब राम मंदिर का निर्माण पूरा हो जाएगा जब रावलपिंडी और लाहौर में भगवा और जब कश्मीर से निकाले गए हिंदू जिहादियों की छाती पर पैर रख कर वापस आएंगे यही नहीं इस समारोह में प्रवीण तोगड़िया ने साक्षी महाराज के बयान हिंदू महिला पैदा करे चार बच्चे वाले बयान को भी सही ठहरा दिया और कहा कि हिंदू राष्ट्र बनाने के लिए यह जरूरी है गुरुवार को इस सम्मेलन में प्रवीण तोगड़िया ने कहा धर्मांतरण को ना घर वापसी को हां लव जिहाद को ना समान नागरिक संहिता को हां उन्होंने राज्य सरकार द्वारा मंदिर के अधिग्रहण किए जाने पर अखिलेश यादव को कहा हिम्मत है तो किसी मस्जिद का अधिग्रहण कर दिखाएं अगर मस्जिद अधिग्रहण नहीं कर सकते तो हम मंदिर का अधिग्रहण नहीं होने देंगे \n",
      "Original summary: तोगडि़या बोले रावलपिंडी लाहौर में भगवा फहराएंगे तब उत्सव मनाएंगे \n",
      "Predicted summary:  दिल्ली में एक बार की मौत\n",
      "\n",
      "\n",
      "Review: फरीदाबाद के न्यू टाउन स्टेशन के पास राजधानी एक्सप्रेस से कटकर लोगों की मौत हो गई ये लोग ट्रैक पार कर रहें थें जब ये दर्दनाक दुर्घटना हुई अभी मृतकों की पहचान नहीं हो पाई है सूत्रों के अनुसार कड़ाके की ठंड और कोहरे के कारण ये दुर्घटना हुई इस घटना की खबर जैसे ही आस पास के इलाकों में पहुंची मौके पर काफी संख्या में लोग जमा हो गए पुलिस ने सभी शवों को पोस्टमार्टम के लिए भेज दिया है \n",
      "Original summary: फरीदाबाद राजधानी एक्सप्रेस से कटकर की मौत \n",
      "Predicted summary:  दिल्ली में एक बार की मौत\n",
      "\n",
      "\n",
      "Review: जम्मू कश्मीर के हंदवाड़ा में पुलिस पोस्ट पर हमले की खबर है आतंकियों ने हंदवाड़ा में में पुलिस पोस्ट पर पहले ग्रेनेड फेंका और जब ग्रेनेड नहीं फटा तो आतंकियों ने फायरिंग की हमले में कोई घायल नहीं हुआ है कुपवाड़ा जिले के हंदवाड़ा में आतंकी हमले के बाद पुलिस और सुरक्षाबलों ने पूरे इलाके को घेर लिया है आतंकियों को पकड़ने के लिए पूरे इलाके में सर्च ऑपरेशन शुरू किया गया है इस पुलिस पोस्ट में अल्पसंख्यक समुदाय की सुरक्षा के लिए हाल ही में बनाया गया था पीओके में घुसकर इंडियन आर्मी के सर्जिकल ऑपरेशन के बाद से घाटी में आतंकी हमलों में तेजी आई है स्थिति को देखते हुए संवेदनशील इलाकों में सुरक्षाबलों की तैनाती बढ़ा दी गई है \n",
      "Original summary: हंदवाड़ा में पुलिस पोस्ट पर हमला ग्रेनेड नहीं फटने पर आतंकियों ने की फायरिंग \n",
      "Predicted summary:  दिल्ली में एक बार की मौत\n",
      "\n",
      "\n",
      "Review: बॉलीवुड के गलियारों में उड़ती उड़ती खबर है कि दबंग सलमान खान और उनकी तथाकथित गर्लफ्रेंड का ब्रेक अप हो गया है हाल ही में सलमान और उलिया ने काफी सुर्खियां बंटोरी थीं क्योंकि दोनों कई मौकों पर एक साथ दिखाई दिए थे यही नहीं पर उनकी तस्वीरें भी लीक हो गईं थीं एक तस्वीर में दोनों साथ साथ पिकनिक मनाते हुए दिखे थे जबकि दूसरी में सलमान और उनके परिवार के साथ उलिया किसी रेस्टोरेंट में खाना खा रही थीं जब से सलमान और कटरीना कैफ का ब्रेक अप हुआ था तब से वे उलिया वंतुर के साथ कई जगह दिखाई दिए वंतुर रोम की टीवी एक्ट्रेस और प्रेजेंटर हैं दोनों के रिश्ते का खुलासा होने के बाद से ही ऐसी अफवाहें थीं कि वंतुर पहले से जर्मनी के एक संगीतकार के साथ शादी कर चुकी हैं हालांकि इस मामले में उलिया ने कभी कुछ नहीं कहा मिड डे की एक रिपोर्ट के मुताबिक उलिया ग्रैमी अवॉर्ड्स के लिए नामांकित संगीतकार मोगा से शादी कर चुकी हैं जब उनसे इस बारे में पूछा गया तो उन्होंने आरोपों से इनकार कर दिया इसके बाद सलमान के परिवार ने मामले पर दखल देने का फैसला किया खबरों के मुताबिक ईद के मौके पर सलमान अपने करीबी दोस्त बाबा सिद्दिकी के साथ थे और उलिया वंतुर पहले ही रोम वापस जा चुकी हैं \n",
      "Original summary: सलमान खान ने तोड़ लिया उलिया वंतुर से रिश्ता \n",
      "Predicted summary:  दिल्ली में एक बार की मौत\n",
      "\n",
      "\n"
     ]
    }
   ],
   "source": [
    "for i in range(0,10):\n",
    "    print(\"Review:\",seq2text(x_tr[i]))\n",
    "    print(\"Original summary:\",seq2summary(y_tr[i]))\n",
    "    print(\"Predicted summary:\",decode_sequence(x_tr[i].reshape(1,max_text_len)))\n",
    "    print(\"\\n\")"
   ]
  },
  {
   "cell_type": "code",
   "execution_count": 49,
   "id": "77e76e03",
   "metadata": {
    "execution": {
     "iopub.execute_input": "2022-07-10T19:14:10.152291Z",
     "iopub.status.busy": "2022-07-10T19:14:10.151932Z",
     "iopub.status.idle": "2022-07-10T19:14:11.022521Z",
     "shell.execute_reply": "2022-07-10T19:14:11.021298Z"
    },
    "papermill": {
     "duration": 1.071108,
     "end_time": "2022-07-10T19:14:11.025164",
     "exception": false,
     "start_time": "2022-07-10T19:14:09.954056",
     "status": "completed"
    },
    "tags": []
   },
   "outputs": [],
   "source": [
    "from tensorflow.keras.models import load_model\n",
    "new_model = load_model(\"HindiTextModel.h5\")"
   ]
  }
 ],
 "metadata": {
  "kernelspec": {
   "display_name": "Python 3 (ipykernel)",
   "language": "python",
   "name": "python3"
  },
  "language_info": {
   "codemirror_mode": {
    "name": "ipython",
    "version": 3
   },
   "file_extension": ".py",
   "mimetype": "text/x-python",
   "name": "python",
   "nbconvert_exporter": "python",
   "pygments_lexer": "ipython3",
   "version": "3.9.7"
  },
  "papermill": {
   "default_parameters": {},
   "duration": 16702.294068,
   "end_time": "2022-07-10T19:14:14.152607",
   "environment_variables": {},
   "exception": null,
   "input_path": "__notebook__.ipynb",
   "output_path": "__notebook__.ipynb",
   "parameters": {},
   "start_time": "2022-07-10T14:35:51.858539",
   "version": "2.3.4"
  }
 },
 "nbformat": 4,
 "nbformat_minor": 5
}
